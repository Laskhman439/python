{
 "cells": [
  {
   "cell_type": "markdown",
   "metadata": {},
   "source": [
    "# Day Objectives:\n",
    "* Python Data Structures\n",
    "    * Lists\n",
    "    * Tuples\n",
    "    * Dictionaries\n",
    "* Basic problem set on Data Structures\n",
    "* Advanced Data set\n",
    "* Packages and Modules in Python\n"
   ]
  },
  {
   "cell_type": "markdown",
   "metadata": {},
   "source": [
    "# Python Data Structes\n",
    "## Lists"
   ]
  },
  {
   "cell_type": "code",
   "execution_count": null,
   "metadata": {},
   "outputs": [],
   "source": []
  },
  {
   "cell_type": "code",
   "execution_count": 8,
   "metadata": {},
   "outputs": [
    {
     "ename": "TypeError",
     "evalue": "ord() expected string of length 1, but int found",
     "output_type": "error",
     "traceback": [
      "\u001b[1;31m---------------------------------------------------------------------------\u001b[0m",
      "\u001b[1;31mTypeError\u001b[0m                                 Traceback (most recent call last)",
      "\u001b[1;32m<ipython-input-8-e1cae9502c54>\u001b[0m in \u001b[0;36m<module>\u001b[1;34m\u001b[0m\n\u001b[0;32m     32\u001b[0m \u001b[0mmax\u001b[0m\u001b[1;33m(\u001b[0m\u001b[0mli\u001b[0m\u001b[1;33m)\u001b[0m \u001b[1;31m# third method for second largest\u001b[0m\u001b[1;33m\u001b[0m\u001b[1;33m\u001b[0m\u001b[0m\n\u001b[0;32m     33\u001b[0m \u001b[1;31m#li.index(1000)\u001b[0m\u001b[1;33m\u001b[0m\u001b[1;33m\u001b[0m\u001b[1;33m\u001b[0m\u001b[0m\n\u001b[1;32m---> 34\u001b[1;33m \u001b[0mint\u001b[0m\u001b[1;33m(\u001b[0m\u001b[0mord\u001b[0m\u001b[1;33m(\u001b[0m\u001b[0ma\u001b[0m\u001b[1;33m)\u001b[0m\u001b[1;33m)\u001b[0m\u001b[1;33m\u001b[0m\u001b[1;33m\u001b[0m\u001b[0m\n\u001b[0m",
      "\u001b[1;31mTypeError\u001b[0m: ord() expected string of length 1, but int found"
     ]
    },
    {
     "ename": "TypeError",
     "evalue": "ord() expected string of length 1, but int found",
     "output_type": "error",
     "traceback": [
      "\u001b[1;31m---------------------------------------------------------------------------\u001b[0m",
      "\u001b[1;31mTypeError\u001b[0m                                 Traceback (most recent call last)",
      "\u001b[1;32m<ipython-input-8-e1cae9502c54>\u001b[0m in \u001b[0;36m<module>\u001b[1;34m\u001b[0m\n\u001b[0;32m     32\u001b[0m \u001b[0mmax\u001b[0m\u001b[1;33m(\u001b[0m\u001b[0mli\u001b[0m\u001b[1;33m)\u001b[0m \u001b[1;31m# third method for second largest\u001b[0m\u001b[1;33m\u001b[0m\u001b[1;33m\u001b[0m\u001b[0m\n\u001b[0;32m     33\u001b[0m \u001b[1;31m#li.index(1000)\u001b[0m\u001b[1;33m\u001b[0m\u001b[1;33m\u001b[0m\u001b[1;33m\u001b[0m\u001b[0m\n\u001b[1;32m---> 34\u001b[1;33m \u001b[0mint\u001b[0m\u001b[1;33m(\u001b[0m\u001b[0mord\u001b[0m\u001b[1;33m(\u001b[0m\u001b[0ma\u001b[0m\u001b[1;33m)\u001b[0m\u001b[1;33m)\u001b[0m\u001b[1;33m\u001b[0m\u001b[1;33m\u001b[0m\u001b[0m\n\u001b[0m",
      "\u001b[1;31mTypeError\u001b[0m: ord() expected string of length 1, but int found"
     ]
    },
    {
     "ename": "TypeError",
     "evalue": "ord() expected string of length 1, but int found",
     "output_type": "error",
     "traceback": [
      "\u001b[1;31m---------------------------------------------------------------------------\u001b[0m",
      "\u001b[1;31mTypeError\u001b[0m                                 Traceback (most recent call last)",
      "\u001b[1;32m<ipython-input-8-e1cae9502c54>\u001b[0m in \u001b[0;36m<module>\u001b[1;34m\u001b[0m\n\u001b[0;32m     32\u001b[0m \u001b[0mmax\u001b[0m\u001b[1;33m(\u001b[0m\u001b[0mli\u001b[0m\u001b[1;33m)\u001b[0m \u001b[1;31m# third method for second largest\u001b[0m\u001b[1;33m\u001b[0m\u001b[1;33m\u001b[0m\u001b[0m\n\u001b[0;32m     33\u001b[0m \u001b[1;31m#li.index(1000)\u001b[0m\u001b[1;33m\u001b[0m\u001b[1;33m\u001b[0m\u001b[1;33m\u001b[0m\u001b[0m\n\u001b[1;32m---> 34\u001b[1;33m \u001b[0mint\u001b[0m\u001b[1;33m(\u001b[0m\u001b[0mord\u001b[0m\u001b[1;33m(\u001b[0m\u001b[0ma\u001b[0m\u001b[1;33m)\u001b[0m\u001b[1;33m)\u001b[0m\u001b[1;33m\u001b[0m\u001b[1;33m\u001b[0m\u001b[0m\n\u001b[0m",
      "\u001b[1;31mTypeError\u001b[0m: ord() expected string of length 1, but int found"
     ]
    },
    {
     "ename": "TypeError",
     "evalue": "ord() expected string of length 1, but int found",
     "output_type": "error",
     "traceback": [
      "\u001b[1;31m---------------------------------------------------------------------------\u001b[0m",
      "\u001b[1;31mTypeError\u001b[0m                                 Traceback (most recent call last)",
      "\u001b[1;32m<ipython-input-8-e1cae9502c54>\u001b[0m in \u001b[0;36m<module>\u001b[1;34m\u001b[0m\n\u001b[0;32m     32\u001b[0m \u001b[0mmax\u001b[0m\u001b[1;33m(\u001b[0m\u001b[0mli\u001b[0m\u001b[1;33m)\u001b[0m \u001b[1;31m# third method for second largest\u001b[0m\u001b[1;33m\u001b[0m\u001b[1;33m\u001b[0m\u001b[0m\n\u001b[0;32m     33\u001b[0m \u001b[1;31m#li.index(1000)\u001b[0m\u001b[1;33m\u001b[0m\u001b[1;33m\u001b[0m\u001b[1;33m\u001b[0m\u001b[0m\n\u001b[1;32m---> 34\u001b[1;33m \u001b[0mint\u001b[0m\u001b[1;33m(\u001b[0m\u001b[0mord\u001b[0m\u001b[1;33m(\u001b[0m\u001b[0ma\u001b[0m\u001b[1;33m)\u001b[0m\u001b[1;33m)\u001b[0m\u001b[1;33m\u001b[0m\u001b[1;33m\u001b[0m\u001b[0m\n\u001b[0m",
      "\u001b[1;31mTypeError\u001b[0m: ord() expected string of length 1, but int found"
     ]
    },
    {
     "ename": "TypeError",
     "evalue": "ord() expected string of length 1, but int found",
     "output_type": "error",
     "traceback": [
      "\u001b[1;31m---------------------------------------------------------------------------\u001b[0m",
      "\u001b[1;31mTypeError\u001b[0m                                 Traceback (most recent call last)",
      "\u001b[1;32m<ipython-input-8-e1cae9502c54>\u001b[0m in \u001b[0;36m<module>\u001b[1;34m\u001b[0m\n\u001b[0;32m     32\u001b[0m \u001b[0mmax\u001b[0m\u001b[1;33m(\u001b[0m\u001b[0mli\u001b[0m\u001b[1;33m)\u001b[0m \u001b[1;31m# third method for second largest\u001b[0m\u001b[1;33m\u001b[0m\u001b[1;33m\u001b[0m\u001b[0m\n\u001b[0;32m     33\u001b[0m \u001b[1;31m#li.index(1000)\u001b[0m\u001b[1;33m\u001b[0m\u001b[1;33m\u001b[0m\u001b[1;33m\u001b[0m\u001b[0m\n\u001b[1;32m---> 34\u001b[1;33m \u001b[0mint\u001b[0m\u001b[1;33m(\u001b[0m\u001b[0mord\u001b[0m\u001b[1;33m(\u001b[0m\u001b[0ma\u001b[0m\u001b[1;33m)\u001b[0m\u001b[1;33m)\u001b[0m\u001b[1;33m\u001b[0m\u001b[1;33m\u001b[0m\u001b[0m\n\u001b[0m",
      "\u001b[1;31mTypeError\u001b[0m: ord() expected string of length 1, but int found"
     ]
    }
   ],
   "source": [
    "li=[123,978,654]\n",
    "li # Access the entire list\n",
    "li[1] # Access an element with index in a list\n",
    "li[1:] # Access all elements from second element in a list\n",
    "li[::-1] # Only shows the reverse of list\n",
    "li=li[::-1] # Assigns the reverse of list to original\n",
    "li\n",
    "li=li[::-1]\n",
    "li[::2] # Access even index elements\n",
    "li[1::2] #Access odd index elements\n",
    "# Lists can be accessed,manipulated in two different\n",
    "    # Direct Referencing-[index]\n",
    "    # Indirect Referencing-through function\n",
    "li.append(345) # Adding an elemnet to end of the list\n",
    "li.insert(1,234) # adding an element at a given index\n",
    "li.sort() # Sort elements in ascending order\n",
    "li.pop() # Remove the last element in a list\n",
    "li.pop(1) # Remove an element at a particular index\n",
    "li2=[234,456,789]\n",
    "li.extend(li2) # Merge list2 into list1\n",
    "sum(li) # sum of all elements in list\n",
    "max(li) # access max element from list\n",
    "len(li) # count the list length\n",
    "sum(li)/len(li) # Average of list elements\n",
    "sum(li[::2])/len(li[::2]) # Average of all alternate elements at even index positions\n",
    "sum(li[1::2])/len(li[1::2]) # Average of all alternate elements at odd index positions\n",
    "li.sort()\n",
    "li[-2]# for second largest\n",
    "li.pop()\n",
    "max(li)# second method for second largest\n",
    "li.remove(max(li))\n",
    "max(li) # third method for second largest\n",
    "#li.index(1000)\n"
   ]
  },
  {
   "cell_type": "code",
   "execution_count": null,
   "metadata": {},
   "outputs": [],
   "source": [
    "# Function to identify the second largest element in list\n",
    "def secondLargest(li):\n",
    "    l=max(li)\n",
    "    s=len(li)\n",
    "    for i in range(s):\n",
    "        if li[i]<l and li[i]>\n",
    "    \n",
    "# Function that returns the nth largest"
   ]
  },
  {
   "cell_type": "code",
   "execution_count": null,
   "metadata": {},
   "outputs": [],
   "source": [
    "#Function to second largest\n",
    "def secondLargest(li):\n",
    "    li.sort()\n",
    "    return li[-2]\n",
    "#Function that returns nth largest\n",
    "def genericLargest(li,n):\n",
    "    li.sort()\n",
    "    return li[-n]\n",
    "secondLargest(li)\n",
    "genericLargest(li,3)"
   ]
  },
  {
   "cell_type": "code",
   "execution_count": null,
   "metadata": {},
   "outputs": [],
   "source": [
    "# Function to search for data in list\n",
    "def linearSearch(li,key):\n",
    "    l=len(li)\n",
    "    for i in range(0,l):\n",
    "        if li[i]==key:\n",
    "            print(\"found\")\n",
    "linearSearch(li,234)\n",
    "#second method\n",
    "def linearSearch(li,key):\n",
    "    for value in li:\n",
    "        if value==key:\n",
    "            print(\"founded\")\n",
    "linearSearch(li,234)\n",
    "#third method\n",
    "def linearSearch(li,key):\n",
    "    if key in li:\n",
    "        print(\"foundd\")\n",
    "linearSearch(li,234)"
   ]
  },
  {
   "cell_type": "code",
   "execution_count": null,
   "metadata": {},
   "outputs": [],
   "source": [
    "#Search for the key in the list and return the index\n",
    "def linearSearch(li,key):\n",
    "    print(li)\n",
    "    l=len(li)\n",
    "    for i in range(0,l):\n",
    "        if li[i]==key:\n",
    "            print(i)\n",
    "linearSearch(li,234)\n",
    "#second method\n",
    "def linearSearch(li,key):\n",
    "    for value in li:\n",
    "        if value==key:\n",
    "            print(li.index(value))\n",
    "linearSearch(li,234)\n",
    "#third method\n",
    "def linearSearch(li,key):\n",
    "    if key in li:\n",
    "        print(li.index(key))\n",
    "linearSearch(li,234)"
   ]
  },
  {
   "cell_type": "code",
   "execution_count": null,
   "metadata": {},
   "outputs": [],
   "source": [
    "#Search for the key in the list and return the position\n",
    "def linearSearch(li,key):\n",
    "    print(li)\n",
    "    l=len(li)\n",
    "    for i in range(0,l):\n",
    "        if li[i]==key:\n",
    "            print(i+1)\n",
    "linearSearch(li,234)"
   ]
  },
  {
   "cell_type": "code",
   "execution_count": null,
   "metadata": {},
   "outputs": [],
   "source": [
    "#Function to count the occurances of a char in a string \n",
    "#\"Python Programming\",m-->2\n",
    "#def countchar(s,c):\n",
    "#    return s.count(c)\n",
    "s=input(\"enter a string\")\n",
    "b=input(\"enter a char\")\n",
    "def charfind(a,t):\n",
    "    count=0\n",
    "    for i in range(0,len(a)):\n",
    "        if a[i]==t:\n",
    "            count=count+1\n",
    "    print(count)\n",
    "charfind(s,b)"
   ]
  },
  {
   "cell_type": "code",
   "execution_count": null,
   "metadata": {},
   "outputs": [],
   "source": [
    "#Function to find the count of  sub string\n",
    "a=input(\"enter a string\")\n",
    "t=input(\"enter a substring\")\n",
    "def subfind(s,b):\n",
    "    count=0\n",
    "    i=len(a)\n",
    "    n=len(b)\n",
    "    g=0\n",
    "    while g<=(i):\n",
    "        if b==s[g:g+n]:\n",
    "            count=count+1\n",
    "        g=g+1\n",
    "    print(count)\n",
    "subfind(a,t)"
   ]
  },
  {
   "cell_type": "code",
   "execution_count": null,
   "metadata": {},
   "outputs": [],
   "source": [
    "#closest to 0\n",
    "n=int(input())\n",
    "s=input()\n",
    "s=s.split()\n",
    "li=[]\n",
    "for i in s:\n",
    "    li.append(i)\n",
    "li\n",
    "def closestZero(li):\n",
    "    n1=[]\n",
    "    for i in li:\n",
    "        if i<0:\n",
    "            n1.append(i)\n",
    "    p1=[]\n",
    "    for i in li:\n",
    "        if i>=0:\n",
    "            pl.append(i)\n",
    "    nc=max(n1)\n",
    "    pc=min(p1)\n",
    "    if pc==0:\n",
    "        return pc\n",
    "    if abs(nc)==pc:\n",
    "        return pc\n",
    "    elif(abs(nc)<pc):\n",
    "        return nc\n",
    "    else:\n",
    "        return pc\n",
    "closestZero(li)\n",
    "        "
   ]
  },
  {
   "cell_type": "code",
   "execution_count": null,
   "metadata": {},
   "outputs": [],
   "source": [
    "#for findg closest number from zero\n",
    "li=[-1,-2,2,3,1,0]\n",
    "li.sort()\n",
    "p1=[]\n",
    "for i in li:\n",
    "    p1.append(abs(i))\n",
    "p1.sort()\n",
    "if p1[0] in li:\n",
    "    print(p1[0])\n",
    "else:\n",
    "    print(-p1[0])"
   ]
  },
  {
   "cell_type": "code",
   "execution_count": 12,
   "metadata": {},
   "outputs": [
    {
     "name": "stdout",
     "output_type": "stream",
     "text": [
      "3\n",
      "2\n",
      "9\n",
      "8\n",
      "None\n",
      "8\n",
      "None\n",
      "8\n",
      "None\n",
      "8\n",
      "None\n",
      "8\n",
      "None\n"
     ]
    }
   ],
   "source": [
    "\n",
    "a=int(input())\n",
    "b=int(input())\n",
    "c=int(input())\n",
    "def cal(a,b,c):\n",
    "    i=c\n",
    "    while i<=c:\n",
    "        if b==(i%a):\n",
    "            print(i)\n",
    "            break\n",
    "        i=i-1\n",
    "print(cal(a,b,c))        "
   ]
  },
  {
   "cell_type": "code",
   "execution_count": 11,
   "metadata": {},
   "outputs": [
    {
     "data": {
      "text/plain": [
       "97"
      ]
     },
     "execution_count": 11,
     "metadata": {},
     "output_type": "execute_result"
    },
    {
     "data": {
      "text/plain": [
       "97"
      ]
     },
     "execution_count": 11,
     "metadata": {},
     "output_type": "execute_result"
    },
    {
     "data": {
      "text/plain": [
       "97"
      ]
     },
     "execution_count": 11,
     "metadata": {},
     "output_type": "execute_result"
    },
    {
     "data": {
      "text/plain": [
       "97"
      ]
     },
     "execution_count": 11,
     "metadata": {},
     "output_type": "execute_result"
    },
    {
     "data": {
      "text/plain": [
       "97"
      ]
     },
     "execution_count": 11,
     "metadata": {},
     "output_type": "execute_result"
    }
   ],
   "source": [
    "ord('a')"
   ]
  }
 ],
 "metadata": {
  "kernelspec": {
   "display_name": "Python 3",
   "language": "python",
   "name": "python3"
  },
  "language_info": {
   "codemirror_mode": {
    "name": "ipython",
    "version": 3
   },
   "file_extension": ".py",
   "mimetype": "text/x-python",
   "name": "python",
   "nbconvert_exporter": "python",
   "pygments_lexer": "ipython3",
   "version": "3.7.3"
  }
 },
 "nbformat": 4,
 "nbformat_minor": 2
}
