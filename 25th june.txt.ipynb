{
 "cells": [
  {
   "cell_type": "code",
   "execution_count": 12,
   "metadata": {},
   "outputs": [
    {
     "name": "stdout",
     "output_type": "stream",
     "text": [
      "abc\n",
      "bca\n",
      "0\n"
     ]
    }
   ],
   "source": [
    "#How many chars we want to del in both strings to convert them into Anagrams\n",
    "s=input()\n",
    "t=input()\n",
    "a1=[0]*26\n",
    "b1=[0]*26\n",
    "for ele in s:\n",
    "    a1[ord(ele)-97]+=1\n",
    "for ele in t:\n",
    "    b1[ord(ele)-97]+=1\n",
    "res=0\n",
    "for i in range(26):\n",
    "    res=res+(abs(a1[i]-b1[i]))\n",
    "print(res)"
   ]
  },
  {
   "cell_type": "code",
   "execution_count": 4,
   "metadata": {},
   "outputs": [
    {
     "name": "stdout",
     "output_type": "stream",
     "text": [
      "abe\n",
      "ab\n",
      "no\n"
     ]
    }
   ],
   "source": [
    "#Annagrams with sort\n",
    "s=list(input())\n",
    "t=list(input())\n",
    "s.sort()\n",
    "t.sort()\n",
    "if s==t:\n",
    "    print(\"yes\")\n",
    "else:\n",
    "    print(\"no\")"
   ]
  },
  {
   "cell_type": "code",
   "execution_count": null,
   "metadata": {},
   "outputs": [],
   "source": []
  },
  {
   "cell_type": "code",
   "execution_count": null,
   "metadata": {},
   "outputs": [],
   "source": []
  }
 ],
 "metadata": {
  "kernelspec": {
   "display_name": "Python 3",
   "language": "python",
   "name": "python3"
  },
  "language_info": {
   "codemirror_mode": {
    "name": "ipython",
    "version": 3
   },
   "file_extension": ".py",
   "mimetype": "text/x-python",
   "name": "python",
   "nbconvert_exporter": "python",
   "pygments_lexer": "ipython3",
   "version": "3.7.3"
  }
 },
 "nbformat": 4,
 "nbformat_minor": 2
}
