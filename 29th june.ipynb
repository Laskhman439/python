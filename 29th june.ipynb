{
 "cells": [
  {
   "cell_type": "code",
   "execution_count": null,
   "metadata": {},
   "outputs": [],
   "source": []
  },
  {
   "cell_type": "markdown",
   "metadata": {},
   "source": [
    "### Numpy Library\n",
    "- Processing N-Dimensional arrays"
   ]
  },
  {
   "cell_type": "code",
   "execution_count": 30,
   "metadata": {},
   "outputs": [
    {
     "name": "stdout",
     "output_type": "stream",
     "text": [
      "[[[10  3 12]\n",
      "  [ 4  6  6]\n",
      "  [14  3  8]]\n",
      "\n",
      " [[ 1  5  5]\n",
      "  [ 3 14  6]\n",
      "  [ 2 12 10]]\n",
      "\n",
      " [[ 6  5 10]\n",
      "  [14 10  4]\n",
      "  [ 5  4  8]]]\n"
     ]
    },
    {
     "data": {
      "text/plain": [
       "array([[[ 8,  4,  5],\n",
       "        [ 4, 10, 14],\n",
       "        [10,  5,  6]],\n",
       "\n",
       "       [[10, 12,  2],\n",
       "        [ 6, 14,  3],\n",
       "        [ 5,  5,  1]],\n",
       "\n",
       "       [[ 8,  3, 14],\n",
       "        [ 6,  6,  4],\n",
       "        [12,  3, 10]]])"
      ]
     },
     "execution_count": 30,
     "metadata": {},
     "output_type": "execute_result"
    }
   ],
   "source": [
    "import numpy as np\n",
    "li=[1,2,3,'z']\n",
    "a=np.array(li)\n",
    "b=np.arange(15)#print list with numbers 0 to 14\n",
    "c=np.random.randint(1,15,size=10)#1D array\n",
    "d=np.random.randint(1,15,size=(3,3))#2D array\n",
    "e=np.random.randint(1,15,size=(3,3,3))#3d array\n",
    "e.ndim# for which dimension\n",
    "e.size# for size\n",
    "e.shape#for shape of e\n",
    "e.dtype\n",
    "e.itemsize\n",
    "print(e)\n",
    "e[::-1,::-1,::-1]"
   ]
  },
  {
   "cell_type": "code",
   "execution_count": 35,
   "metadata": {},
   "outputs": [
    {
     "data": {
      "text/plain": [
       "array([[10,  3, 12],\n",
       "       [ 4,  6,  6],\n",
       "       [14,  3,  8],\n",
       "       [ 1,  5,  5],\n",
       "       [ 3, 14,  6],\n",
       "       [ 2, 12, 10],\n",
       "       [ 6,  5, 10],\n",
       "       [14, 10,  4],\n",
       "       [ 5,  4,  8]])"
      ]
     },
     "execution_count": 35,
     "metadata": {},
     "output_type": "execute_result"
    }
   ],
   "source": [
    "e.reshape(9,3)"
   ]
  },
  {
   "cell_type": "code",
   "execution_count": 40,
   "metadata": {},
   "outputs": [
    {
     "name": "stdout",
     "output_type": "stream",
     "text": [
      "matrix M:\n",
      " [[1. 1. 1.]\n",
      " [1. 1. 1.]\n",
      " [1. 1. 1.]]\n",
      "0.0009356420005133259\n"
     ]
    }
   ],
   "source": [
    "import timeit\n",
    "st=timeit.default_timer()\n",
    "M=np.ones((3,3))\n",
    "print(\"matrix M:\\n\",M)\n",
    "print(timeit.default_timer()-st)"
   ]
  },
  {
   "cell_type": "code",
   "execution_count": 39,
   "metadata": {},
   "outputs": [
    {
     "name": "stdout",
     "output_type": "stream",
     "text": [
      "(3, 3)\n"
     ]
    }
   ],
   "source": [
    "print(M.shape)"
   ]
  },
  {
   "cell_type": "code",
   "execution_count": null,
   "metadata": {},
   "outputs": [],
   "source": []
  }
 ],
 "metadata": {
  "kernelspec": {
   "display_name": "Python 3",
   "language": "python",
   "name": "python3"
  },
  "language_info": {
   "codemirror_mode": {
    "name": "ipython",
    "version": 3
   },
   "file_extension": ".py",
   "mimetype": "text/x-python",
   "name": "python",
   "nbconvert_exporter": "python",
   "pygments_lexer": "ipython3",
   "version": "3.7.3"
  }
 },
 "nbformat": 4,
 "nbformat_minor": 2
}
