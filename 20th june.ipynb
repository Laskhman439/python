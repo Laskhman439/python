{
 "cells": [
  {
   "cell_type": "markdown",
   "metadata": {},
   "source": [
    "## Regular Expressions\n",
    "- Pattern Matching\n",
    "- Symbolic Notation of a Pattern\n",
    "    - Pattern: Format which repeats\n",
    "    - Pattern(RE):The set of all values matches that pattern\n",
    "- [0-9] -> Any digit^[N|n](14)(0|1)*[0-9]{3}$\n",
    "- [a-z] -> Any lower case alphabet\n",
    "- [2468] -> All single digit mltiples of 2\n",
    "- ^[0-9]{1}$ -> Only single digit numbers \n",
    "- ^[0-9]{3}$ -> only three digit numbers\n",
    "- ^[0-9]{3} -> only three digit number higlighted and remaining not highlighted\n",
    "- ^[0-9]*0$ -> All multiples of 10\n",
    "- ^[0-9]*((05)|5)$ -> All multiples of 5\n",
    "- ^[0-9a-z][0-9a-z_.]{4,13}[0-9a-z][@][a-z]{3,18}[.][a-z]{2,4}$ -> for gmail\n",
    "    - email validattion(username@domain.extension)\n",
    "        - Username\n",
    "            - length of username:[6,15]\n",
    "            - no special characters other than _ .\n",
    "            - should not begin and end with _ .\n",
    "            - character ste : all digits and alphabet\n",
    "        - Domain\n",
    "            - length of domain:[3,18]\n",
    "            - no special characters\n",
    "            - character set : all digits and alphabet\n",
    "        - Extension\n",
    "            - length of extension:[2,4]\n",
    "- ^[1-9][0-9]{9}$ -> To print 10 digit number\n",
    "- ^[p][r][i][n][t]$ or ^(print)$ -> only for print\n",
    "- [p][r][i][n][t]$ ->if it allows from ending there is print occured or not\n",
    "- ^[p][r][i][n][t] -> it is allows from starting there is print occured or \n",
    "- ^a.{3}z$ -> starts with a and ends with z in between any value and length less than 5\n",
    "- ^a.*z$ -> start with a and ends with z of any length"
   ]
  },
  {
   "cell_type": "code",
   "execution_count": 19,
   "metadata": {},
   "outputs": [
    {
     "data": {
      "text/plain": [
       "True"
      ]
     },
     "execution_count": 19,
     "metadata": {},
     "output_type": "execute_result"
    }
   ],
   "source": [
    "import re\n",
    "def phoneNumberValidator(number):\n",
    "    pattern=\"^[6-9][0-9]{9}$\"\n",
    "    if re.match(pattern,str(number)):\n",
    "        return True\n",
    "    else:\n",
    "        return False\n",
    "    return\n",
    "phoneNumberValidator(8330914955)"
   ]
  },
  {
   "cell_type": "code",
   "execution_count": 78,
   "metadata": {},
   "outputs": [
    {
     "data": {
      "text/plain": [
       "True"
      ]
     },
     "execution_count": 78,
     "metadata": {},
     "output_type": "execute_result"
    }
   ],
   "source": [
    "import re\n",
    "def gmailvalidator(mail):\n",
    "    pattern=\"^[0-9a-z][0-9a-z_.]{4,13}[0-9a-z][@][a-z]{3,18}[.][a-z]{2,4}$\"\n",
    "    if re.match(pattern,str(mail)):\n",
    "        return True\n",
    "    else:\n",
    "        return False\n",
    "    return\n",
    "gmailvalidator(\"slakshman439@gmail.com\")"
   ]
  },
  {
   "cell_type": "code",
   "execution_count": 79,
   "metadata": {},
   "outputs": [
    {
     "data": {
      "text/plain": [
       "{'luck': ('8330914955', 'slakshman439@gmail.com')}"
      ]
     },
     "execution_count": 79,
     "metadata": {},
     "output_type": "execute_result"
    }
   ],
   "source": [
    "contacts"
   ]
  },
  {
   "cell_type": "code",
   "execution_count": 95,
   "metadata": {},
   "outputs": [
    {
     "name": "stdout",
     "output_type": "stream",
     "text": [
      "lucky added successfully\n"
     ]
    },
    {
     "data": {
      "text/plain": [
       "{'lucky': [8831998229, 'slakshmna439@gmail.com']}"
      ]
     },
     "execution_count": 95,
     "metadata": {},
     "output_type": "execute_result"
    }
   ],
   "source": [
    "contacts={}\n",
    "def addContact(name,phone,mail):\n",
    "    #if name not in contacts and phoneNumberValidator(phone) and gmailvalidator(mail):\n",
    "     #   contacts[name]=phone,mail\n",
    "      #  print(\"contact added\",name)\n",
    "    if name in contacts:\n",
    "        print(\"contact  %s already exists\" % name)\n",
    "    else:\n",
    "        if not phoneNumberValidator(phone):\n",
    "            print(\"invalid phone\")\n",
    "        if not gmailvalidator(mail):\n",
    "            print(\"invalid mail\")\n",
    "    newcontact=[]\n",
    "    newcontact.append(phone)\n",
    "    newcontact.append(mail)\n",
    "    contacts[name]=newcontact\n",
    "    print(name,\"added successfully\")        \n",
    "    #return\n",
    "addContact(\"lucky\",8831998229,'slakshmna439@gmail.com')\n",
    "contacts"
   ]
  },
  {
   "cell_type": "code",
   "execution_count": 86,
   "metadata": {},
   "outputs": [
    {
     "name": "stdout",
     "output_type": "stream",
     "text": [
      "roop : ['7731998229', 'chanduroop440@gmail.com']\n"
     ]
    }
   ],
   "source": [
    "def searchContacts(name):\n",
    "    if name in contacts:\n",
    "        print(name,\":\",contacts[name])\n",
    "    else:\n",
    "        print(\"%s does not exists\" % name)\n",
    "        return\n",
    "searchContacts(\"roop\")"
   ]
  },
  {
   "cell_type": "code",
   "execution_count": 89,
   "metadata": {},
   "outputs": [
    {
     "data": {
      "text/plain": [
       "dict_items([('roop', ['7731998229', 'chanduroop440@gmail.com'])])"
      ]
     },
     "execution_count": 89,
     "metadata": {},
     "output_type": "execute_result"
    }
   ],
   "source": [
    "contacts.items()"
   ]
  },
  {
   "cell_type": "code",
   "execution_count": 96,
   "metadata": {},
   "outputs": [
    {
     "name": "stdout",
     "output_type": "stream",
     "text": [
      "{'lucky': [8831998229, 'slakshmna439@gmail.com']} \n",
      " phone: 8831998229 \n",
      " email slakshmna439@gmail.com\n"
     ]
    }
   ],
   "source": [
    "def listAllcontacts():\n",
    "    for contact,info in contacts.items():\n",
    "        print(contacts,\"\\n\",\"phone:\",info[0],\"\\n\",\"email\",info[1])\n",
    "    return\n",
    "listAllcontacts()"
   ]
  },
  {
   "cell_type": "markdown",
   "metadata": {},
   "source": [
    "### File Handling in python\n",
    "- File - Document containing information residing \n",
    "- Types - Text,PDF,CSV etc\n",
    "- File I/o - channelling I/O date to files\n",
    "- Default I/O channels-Keyboard/screen\n",
    "- Change I/O channel to files for Reading and Writting\n",
    "- Read a file - Input from the file\n",
    "- Write a file - Output to a file\n",
    "- Read/Write"
   ]
  },
  {
   "cell_type": "code",
   "execution_count": 58,
   "metadata": {},
   "outputs": [
    {
     "name": "stdout",
     "output_type": "stream",
     "text": [
      "lucky\n",
      "ls\\\n",
      "sjdkfjlkalfud\n",
      "lucky\n",
      "ls\\\n",
      "sjdkfjlkalfudlucky\n",
      "ls\\\n",
      "sjdkfjlkalfud\n"
     ]
    }
   ],
   "source": [
    "#Function to read a file\n",
    "def readFile(filename):\n",
    "    f=open(filename,'r')\n",
    "    filedata=f.read()\n",
    "    f.close()#instead of f.close we also use in 3rd line f=open(filename,'r') as f\n",
    "    return filedata\n",
    "filename='datafiles/data.txt'\n",
    "#--->>for print the data in line by line\n",
    "#first method\n",
    "for line in readFile(filename).split('\\n'):\n",
    "    print(line)\n",
    "#second method\n",
    "def printFileDataLines(filename):\n",
    "    f=open(filename,'r')\n",
    "    for line in f:\n",
    "        print(line,end=\"\")\n",
    "    return\n",
    "printFileDataLines(filename)\n",
    "#third method\n",
    "print(readFile(filename))"
   ]
  },
  {
   "cell_type": "code",
   "execution_count": 74,
   "metadata": {},
   "outputs": [],
   "source": [
    "#Function to write data into a file\n",
    "def writeIntoFile(filename,filedata):\n",
    "    with open(filename,'w') as f:#if it is new file then we put 'w' \n",
    "        f.write(filedata)\n",
    "    return\n",
    "filename='Datafiles/data.txt'\n",
    "writeIntoFile(filename,\"akashsinha\")"
   ]
  },
  {
   "cell_type": "code",
   "execution_count": 77,
   "metadata": {},
   "outputs": [],
   "source": [
    "def writeIntoFile(filename,filedata):\n",
    "    with open(filename,'a') as f:\n",
    "        f.write(filedata)\n",
    "    return\n",
    "filename='Datafiles/data.txt'\n",
    "writeIntoFile(filename,\"msdhoni\\n\")"
   ]
  },
  {
   "cell_type": "code",
   "execution_count": 73,
   "metadata": {},
   "outputs": [],
   "source": [
    "fh = open('datafiles/data.txt','a')\n",
    "fh.writelines(['hi1233\\n','hello\\n'])\n",
    "fh.close()"
   ]
  },
  {
   "cell_type": "code",
   "execution_count": null,
   "metadata": {},
   "outputs": [],
   "source": []
  }
 ],
 "metadata": {
  "kernelspec": {
   "display_name": "Python 3",
   "language": "python",
   "name": "python3"
  },
  "language_info": {
   "codemirror_mode": {
    "name": "ipython",
    "version": 3
   },
   "file_extension": ".py",
   "mimetype": "text/x-python",
   "name": "python",
   "nbconvert_exporter": "python",
   "pygments_lexer": "ipython3",
   "version": "3.7.3"
  }
 },
 "nbformat": 4,
 "nbformat_minor": 2
}
