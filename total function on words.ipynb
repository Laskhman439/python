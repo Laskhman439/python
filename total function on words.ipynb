{
 "cells": [
  {
   "cell_type": "code",
   "execution_count": 4,
   "metadata": {},
   "outputs": [
    {
     "name": "stdout",
     "output_type": "stream",
     "text": [
      "0\n",
      "1\n",
      "1\n",
      "1\n",
      "1\n",
      "1\n",
      "1\n",
      "0\n",
      "0\n",
      "0\n"
     ]
    }
   ],
   "source": [
    "s=\"123abc456def\"\n",
    "for i in range(0,10):\n",
    "    a=s.count(str(i))\n",
    "    print(a)"
   ]
  },
  {
   "cell_type": "code",
   "execution_count": 9,
   "metadata": {},
   "outputs": [
    {
     "name": "stdout",
     "output_type": "stream",
     "text": [
      "hello1244hai12434\n",
      "0 2 2 1 4 0 0 0 0 0 "
     ]
    }
   ],
   "source": [
    "s=input()\n",
    "d={}\n",
    "for ele in s:\n",
    "    if ele.isdigit():\n",
    "        if ele not in d:\n",
    "            d[ele]=1;\n",
    "        else:\n",
    "            d[ele]+=1;\n",
    "for i in range(0,10):\n",
    "    if str(i) not in d:\n",
    "        print('0',end=\" \");\n",
    "    else:\n",
    "        print(d[str(i)],end=\" \")"
   ]
  },
  {
   "cell_type": "code",
   "execution_count": 2,
   "metadata": {},
   "outputs": [
    {
     "name": "stdout",
     "output_type": "stream",
     "text": [
      "hi good afternoon this is lakshman hi every one this is vinod\n"
     ]
    }
   ],
   "source": [
    "def wordsw(s):\n",
    "    with open(s,'w') as f:\n",
    "        fiedata=f.write(input())\n",
    "#s=\"Datafiles/marks.txt\"\n",
    "#wordsw(s)"
   ]
  },
  {
   "cell_type": "code",
   "execution_count": 2,
   "metadata": {},
   "outputs": [
    {
     "data": {
      "text/plain": [
       "['hi',\n",
       " 'good',\n",
       " 'afternoon',\n",
       " 'this',\n",
       " 'is',\n",
       " 'lakshman',\n",
       " 'hi',\n",
       " 'every',\n",
       " 'one',\n",
       " 'this',\n",
       " 'is',\n",
       " 'vinod']"
      ]
     },
     "execution_count": 2,
     "metadata": {},
     "output_type": "execute_result"
    }
   ],
   "source": [
    "s=\"Datafiles/marks.txt\"\n",
    "def words(s):\n",
    "    allwords=[]\n",
    "    with open(s,'r') as f:\n",
    "        filedata=f.read()\n",
    "        allwords=filedata.split()\n",
    "    return allwords\n",
    "words(s)            \n",
    "        \n",
    "            "
   ]
  },
  {
   "cell_type": "code",
   "execution_count": 4,
   "metadata": {},
   "outputs": [
    {
     "data": {
      "text/plain": [
       "['is', 'good', 'this', 'vinod', 'every', 'hi', 'lakshman', 'afternoon', 'one']"
      ]
     },
     "execution_count": 4,
     "metadata": {},
     "output_type": "execute_result"
    }
   ],
   "source": [
    "def unique(s):\n",
    "    uniquewords=[]\n",
    "    with open(s,'r') as f:\n",
    "        filedata=f.read()\n",
    "        words=filedata.split()\n",
    "        uniquewords=list(set(words))\n",
    "    return uniquewords\n",
    "#unique(s)\n"
   ]
  },
  {
   "cell_type": "code",
   "execution_count": 5,
   "metadata": {},
   "outputs": [
    {
     "name": "stdout",
     "output_type": "stream",
     "text": [
      "{'hi': 2, 'good': 1, 'afternoon': 1, 'this': 2, 'is': 2, 'lakshman': 1, 'every': 1, 'one': 1, 'vinod': 1}\n"
     ]
    }
   ],
   "source": [
    "def wordfrequency(s):\n",
    "    with open(s,'r') as f:\n",
    "        filedata=words(s)\n",
    "        #compare=unique(s)\n",
    "        #print(filedata)\n",
    "        frequency={}\n",
    "        for ele in filedata:\n",
    "            if ele not in frequency:\n",
    "                frequency[ele]=1\n",
    "            else:\n",
    "                frequency[ele]+=1\n",
    "        print(frequency)\n",
    "#wordfrequency(s)"
   ]
  },
  {
   "cell_type": "code",
   "execution_count": 6,
   "metadata": {},
   "outputs": [
    {
     "name": "stdout",
     "output_type": "stream",
     "text": [
      "hi\n",
      "hlo\n",
      "['hi', 'good', 'afternoon', 'this', 'is', 'lakshman', 'hi', 'every', 'one', 'this', 'is', 'vinod']\n",
      "['hlo', 'good', 'afternoon', 'this', 'is', 'lakshman', 'hlo', 'every', 'one', 'this', 'is', 'vinod']\n"
     ]
    }
   ],
   "source": [
    "def replace(fword,rword):\n",
    "    filedata=words(s)\n",
    "    print(filedata)\n",
    "    for ele in range(len(filedata)):\n",
    "        if filedata[ele]==fword:\n",
    "            filedata[ele]=rword\n",
    "    print(filedata)    \n",
    "#fword=input()\n",
    "#rword=input()\n",
    "#replace(fword,rword)"
   ]
  },
  {
   "cell_type": "code",
   "execution_count": 3,
   "metadata": {},
   "outputs": [
    {
     "name": "stdout",
     "output_type": "stream",
     "text": [
      "Enter:\n",
      "1.write data\n",
      "2.read words\n",
      "3.read unique words\n",
      "4.frequency of unique words\n",
      "5.find and replace\n",
      "2\n",
      "Enter:\n",
      "1 to continue\n",
      "0 to exit\n",
      "0\n"
     ]
    }
   ],
   "source": [
    "n=1\n",
    "while(n==1):\n",
    "    a=int(input(\"Enter:\\n1.write data\\n2.read words\\n3.read unique words\\n4.frequency of unique words\\n5.find and replace\\n\"))\n",
    "    s=\"Datafiles/hi.txt\"\n",
    "    if a==1:\n",
    "        wordsw(s)\n",
    "    elif a==2:\n",
    "        words(s)\n",
    "    elif a==3:\n",
    "        unique(s)\n",
    "    elif a==4:\n",
    "        wordfrequency(s)\n",
    "    elif a==5:\n",
    "        m=input()\n",
    "        n=input()\n",
    "        replace(m,n)\n",
    "    n=input(\"Enter:\\n1 to continue\\n0 to exit\\n\")\n",
    "        \n",
    "        "
   ]
  }
 ],
 "metadata": {
  "kernelspec": {
   "display_name": "Python 3",
   "language": "python",
   "name": "python3"
  },
  "language_info": {
   "codemirror_mode": {
    "name": "ipython",
    "version": 3
   },
   "file_extension": ".py",
   "mimetype": "text/x-python",
   "name": "python",
   "nbconvert_exporter": "python",
   "pygments_lexer": "ipython3",
   "version": "3.7.3"
  }
 },
 "nbformat": 4,
 "nbformat_minor": 2
}
