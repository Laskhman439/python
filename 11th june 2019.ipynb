{
 "cells": [
  {
   "cell_type": "markdown",
   "metadata": {},
   "source": [
    "# Markdown Basics\n",
    "## Markdown Basics\n",
    "### Markdown Basics\n",
    "* **Converting into bold** <br>\n",
    "* *itallic* <br>\n",
    "* ***bold and itallic*** <br>\n",
    "* Normal Text <br>\n",
    "  * sublist1\n",
    "  * sublist2\n",
    "\n",
    "\n",
    "1. ordered list 1\n",
    "2. ordered list 2\n",
    "\n",
    "[jupyterlogo](jupyterlogo.png)\n",
    "![jupyterlogo](jupyterlogo.png)\n",
    "<img src=\"jupyterlogo.png\" width=500 height=500 style=\"float:left\">\n",
    "I get 10 times more traffic [google][] than from [Yahoo][] or [MSN]\n",
    "    [google]: https//google.com  \"google\"\n",
    "    [Yahoo]: https//yahoo.com  \"yahoo\"\n",
    "    [msn]: https//msn.com  \"msn\"\n",
    " printf(\"hi good afternoon\")\n",
    " <slakshman439@gmalil.com>"
   ]
  },
  {
   "cell_type": "code",
   "execution_count": null,
   "metadata": {},
   "outputs": [],
   "source": []
  },
  {
   "cell_type": "markdown",
   "metadata": {},
   "source": [
    "# PythonBasics\n",
    "### Python version 3.7\n",
    "* scripting"
   ]
  },
  {
   "cell_type": "code",
   "execution_count": 6,
   "metadata": {},
   "outputs": [
    {
     "name": "stdout",
     "output_type": "stream",
     "text": [
      "good afternoon !||hello python\n"
     ]
    }
   ],
   "source": [
    "#python comments\n",
    "\n",
    "print(\"good afternoon !\",end=\"||\")\n",
    "print(\"hello python\")\n",
    "\n",
    "\n",
    "\n"
   ]
  },
  {
   "cell_type": "code",
   "execution_count": null,
   "metadata": {},
   "outputs": [],
   "source": []
  },
  {
   "cell_type": "markdown",
   "metadata": {},
   "source": [
    "# Assignment"
   ]
  },
  {
   "cell_type": "code",
   "execution_count": 14,
   "metadata": {},
   "outputs": [
    {
     "name": "stdout",
     "output_type": "stream",
     "text": [
      "123456\n",
      "123 124 345\n"
     ]
    }
   ],
   "source": [
    "n1=123456 #single variable Assignment\n",
    "n2=n3=n4=n1 #multi variable Assignment of the same value\n",
    "n3\n",
    "a,b,c=123,124,345 #multi variable assignment with value\n",
    "print (n1)\n",
    "print (a,b,c)\n"
   ]
  },
  {
   "cell_type": "code",
   "execution_count": null,
   "metadata": {},
   "outputs": [],
   "source": []
  },
  {
   "cell_type": "markdown",
   "metadata": {},
   "source": [
    "# Arithmetic operation\n",
    "* +\n",
    "* -\n",
    "* /\n",
    "* %\n",
    "* *\n",
    "* '**'\n",
    " "
   ]
  },
  {
   "cell_type": "code",
   "execution_count": 36,
   "metadata": {},
   "outputs": [
    {
     "data": {
      "text/plain": [
       "83"
      ]
     },
     "execution_count": 36,
     "metadata": {},
     "output_type": "execute_result"
    }
   ],
   "source": [
    "n1 % 11\n",
    "n3=n2 ** 123456\n",
    "type(n3)\n",
    "n3\n",
    "#len(str(n3))\n",
    "atoms=10 ** 82\n",
    "len(str(atoms))"
   ]
  },
  {
   "cell_type": "code",
   "execution_count": null,
   "metadata": {},
   "outputs": [],
   "source": []
  },
  {
   "cell_type": "markdown",
   "metadata": {},
   "source": [
    "# conditionals"
   ]
  },
  {
   "cell_type": "code",
   "execution_count": 51,
   "metadata": {},
   "outputs": [
    {
     "name": "stdout",
     "output_type": "stream",
     "text": [
      "False\n",
      "Even\n"
     ]
    }
   ],
   "source": [
    "if atoms < 10 ** 9:\n",
    "    print (\"True\")\n",
    "else:\n",
    "    print(\"False\")\n",
    "n=10\n",
    "if n % 2== 0:\n",
    "    print(\"Even\")\n",
    "else:\n",
    "    print(\"Odd\")"
   ]
  },
  {
   "cell_type": "code",
   "execution_count": 58,
   "metadata": {},
   "outputs": [
    {
     "name": "stdout",
     "output_type": "stream",
     "text": [
      "enter first number6\n",
      "enter second number5\n",
      "enter third number0\n",
      "6 n1 is greatest\n"
     ]
    }
   ],
   "source": [
    "#gretest among three numbers\n",
    "n1=int(input(\"enter first number\"))\n",
    "n2=int(input(\"enter second number\"))\n",
    "n3=int(input(\"enter third number\"))\n",
    "if n1>n2:\n",
    "    if n1>n3:\n",
    "        print(n1,\"n1 is greatest\")\n",
    "    else :\n",
    "        print(n3,\"n3 is greatest\")\n",
    "elif n2>n3:\n",
    "    print(n2,\"n2 is greatest\")"
   ]
  },
  {
   "cell_type": "code",
   "execution_count": 63,
   "metadata": {},
   "outputs": [
    {
     "name": "stdout",
     "output_type": "stream",
     "text": [
      "enter a Year2019\n",
      "2019 Not Leap Year\n"
     ]
    }
   ],
   "source": [
    "#check if a year is a leap year or not\n",
    "n1=int(input(\"enter a Year\"))\n",
    "if (n1%400==0) or (n1%4==0 and n1%100!=0) :\n",
    "    print(n1,\"Leap Year\")\n",
    "else:\n",
    "    print(n1,\"Not Leap Year\")\n",
    "    "
   ]
  },
  {
   "cell_type": "code",
   "execution_count": 64,
   "metadata": {},
   "outputs": [
    {
     "name": "stdout",
     "output_type": "stream",
     "text": [
      "enter a number50\n",
      "enter lower40\n",
      "enter upper60\n",
      "exists\n"
     ]
    }
   ],
   "source": [
    "#check if the given number exits in a given range or not\n",
    "n1=int(input(\"enter a number\"))\n",
    "lower=int(input(\"enter lower\"))\n",
    "upper=int(input(\"enter upper\"))\n",
    "if n1>lower and n1<upper:\n",
    "    print(\"exists\")\n",
    "else:\n",
    "    print(\"not exitst\")"
   ]
  },
  {
   "cell_type": "code",
   "execution_count": 7,
   "metadata": {},
   "outputs": [
    {
     "name": "stdout",
     "output_type": "stream",
     "text": [
      "enter a number1234\n",
      "4\n"
     ]
    }
   ],
   "source": [
    "#calculate no of digits in a number\n",
    "n1=int(input(\"enter a number\"))\n",
    "print(len(str(n1)))"
   ]
  },
  {
   "cell_type": "code",
   "execution_count": 4,
   "metadata": {},
   "outputs": [
    {
     "name": "stdout",
     "output_type": "stream",
     "text": [
      "enter a number23\n",
      "this is not a multiple\n"
     ]
    }
   ],
   "source": [
    "#check if a number is a multiple of 10\n",
    "n1=int(input(\"enter a number\"))\n",
    "if n1%10==0:\n",
    "    print(\"yes this is multiple\")\n",
    "else:\n",
    "    print(\"this is not a multiple\")\n"
   ]
  },
  {
   "cell_type": "code",
   "execution_count": 6,
   "metadata": {},
   "outputs": [
    {
     "name": "stdout",
     "output_type": "stream",
     "text": [
      "enter a number5\n",
      "5 yes multiple of 1000\n"
     ]
    }
   ],
   "source": [
    "#check if a number is a factor of 1000\n",
    "n1=int(input(\"enter a number\"))\n",
    "if 1000%n1==0:\n",
    "    print(n1,\"yes multiple of 1000\")\n",
    "else:\n",
    "    print(n1,\"not a multiple of 1000\")\n"
   ]
  },
  {
   "cell_type": "code",
   "execution_count": 9,
   "metadata": {},
   "outputs": [
    {
     "name": "stdout",
     "output_type": "stream",
     "text": [
      "not equal\n"
     ]
    }
   ],
   "source": [
    "#check if given string is equal to a number or not\n",
    "s1=\"123456\"\n",
    "n1=123456\n",
    "if str(s1)==n1:\n",
    "    print(\"yes both are equal\")\n",
    "else:\n",
    "    print(\"not equal\")\n"
   ]
  },
  {
   "cell_type": "code",
   "execution_count": 11,
   "metadata": {},
   "outputs": [
    {
     "name": "stdout",
     "output_type": "stream",
     "text": [
      "enter a number4\n",
      "16\n"
     ]
    }
   ],
   "source": [
    "#calculate the square root of a number without using functions\n",
    "n1=int(input(\"enter a number\"))\n",
    "print(n1**2)"
   ]
  },
  {
   "cell_type": "code",
   "execution_count": null,
   "metadata": {},
   "outputs": [
    {
     "name": "stdout",
     "output_type": "stream",
     "text": [
      "enter a year2020\n"
     ]
    }
   ],
   "source": [
    "#calculate no of nano seconds in a year(based on leapyear technique)\n",
    "s=int(input(\"enter a year\"))\n",
    "if s%400 or (s%4==0 and s%100!=0):\n",
    "    print(366*24*60*60*(10**9))\n",
    "else:\n",
    "    print(365*24*60*60*(10**9))"
   ]
  },
  {
   "cell_type": "code",
   "execution_count": null,
   "metadata": {},
   "outputs": [],
   "source": []
  },
  {
   "cell_type": "markdown",
   "metadata": {},
   "source": [
    "# Data types and convertions\n",
    "* int\n",
    "* float\n",
    "* string"
   ]
  },
  {
   "cell_type": "code",
   "execution_count": 45,
   "metadata": {},
   "outputs": [
    {
     "data": {
      "text/plain": [
       "12.0"
      ]
     },
     "execution_count": 45,
     "metadata": {},
     "output_type": "execute_result"
    }
   ],
   "source": [
    "s1=\"lucky\"\n",
    "type(s1)\n",
    "\n",
    "f1=12.345\n",
    "(float(int(f1)))"
   ]
  },
  {
   "cell_type": "code",
   "execution_count": null,
   "metadata": {},
   "outputs": [],
   "source": []
  }
 ],
 "metadata": {
  "kernelspec": {
   "display_name": "Python 3",
   "language": "python",
   "name": "python3"
  },
  "language_info": {
   "codemirror_mode": {
    "name": "ipython",
    "version": 3
   },
   "file_extension": ".py",
   "mimetype": "text/x-python",
   "name": "python",
   "nbconvert_exporter": "python",
   "pygments_lexer": "ipython3",
   "version": "3.7.3"
  }
 },
 "nbformat": 4,
 "nbformat_minor": 2
}
