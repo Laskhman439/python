{
 "cells": [
  {
   "cell_type": "code",
   "execution_count": null,
   "metadata": {},
   "outputs": [],
   "source": [
    "#to count no of digits and charcters\n",
    "s=input()\n",
    "a=0\n",
    "b=0\n",
    "for i in s:\n",
    "    if i.isalpha():\n",
    "        a=a+1\n",
    "    if i.isdigit():\n",
    "        b=b+1\n",
    "print(a,b)"
   ]
  },
  {
   "cell_type": "code",
   "execution_count": null,
   "metadata": {},
   "outputs": [],
   "source": [
    "#5function to generate all perfect nubers in a geven range\n",
    "s=int(input(\"enter a number\"))\n",
    "def perfect(n):\n",
    "    c=0\n",
    "    a=1\n",
    "    while a<n:\n",
    "        if n%a==0:\n",
    "            c=c+a\n",
    "        a=a+1\n",
    "    if(c==n):\n",
    "        print(\"perfect\")\n",
    "    else:\n",
    "        print(\"not a perfect\")\n",
    "perfect(s)"
   ]
  },
  {
   "cell_type": "code",
   "execution_count": 6,
   "metadata": {},
   "outputs": [
    {
     "name": "stdout",
     "output_type": "stream",
     "text": [
      "2\n",
      "1\n",
      "6\n",
      "NO\n"
     ]
    }
   ],
   "source": [
    "#prime factors it is not working well\n",
    "def isPrime(s):\n",
    "    count=0\n",
    "    for q in range(2,s+1):\n",
    "        if s%q==0:\n",
    "            count=count+1\n",
    "    if count==1:\n",
    "        return True\n",
    "p=int(input())\n",
    "a=int(input())\n",
    "for i in range(1,a+1):\n",
    "    j=int(input())\n",
    "    c=0\n",
    "    for i in range(2,j):\n",
    "        if j%i==0 and isPrime(i):\n",
    "            c=+1\n",
    "    if c==p:\n",
    "        print(\"YES\")\n",
    "    else:\n",
    "        print(\"NO\")\n",
    "                "
   ]
  },
  {
   "cell_type": "code",
   "execution_count": 7,
   "metadata": {},
   "outputs": [
    {
     "name": "stdout",
     "output_type": "stream",
     "text": [
      "2\n",
      "1\n",
      "6\n",
      "YES\n"
     ]
    }
   ],
   "source": [
    "# primt factors\n",
    "import sympy\n",
    "def numberOfPrimeFactors(n):\n",
    "    c=0\n",
    "    for i in range(2,n):\n",
    "        #print(sympy.isprime(i))\n",
    "        if(sympy.isprime(i) and n%i==0):\n",
    "            c=c+1\n",
    "    return c\n",
    "def isSpecialNumber(n,p):\n",
    "    if(numberOfPrimeFactors(n)>=p):\n",
    "        return True\n",
    "    else:\n",
    "        return False\n",
    "if __name__==\"__main__\":\n",
    "    p=int(input())\n",
    "    for _ in range(int(input())):\n",
    "        if(isSpecialNumber(int(input()),p)):\n",
    "            print(\"YES\")\n",
    "        else:\n",
    "            print(\"NO\")"
   ]
  },
  {
   "cell_type": "code",
   "execution_count": null,
   "metadata": {},
   "outputs": [],
   "source": [
    "\n"
   ]
  }
 ],
 "metadata": {
  "kernelspec": {
   "display_name": "Python 3",
   "language": "python",
   "name": "python3"
  },
  "language_info": {
   "codemirror_mode": {
    "name": "ipython",
    "version": 3
   },
   "file_extension": ".py",
   "mimetype": "text/x-python",
   "name": "python",
   "nbconvert_exporter": "python",
   "pygments_lexer": "ipython3",
   "version": "3.7.3"
  }
 },
 "nbformat": 4,
 "nbformat_minor": 2
}
