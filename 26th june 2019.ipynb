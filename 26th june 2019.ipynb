{
 "cells": [
  {
   "cell_type": "code",
   "execution_count": 3,
   "metadata": {},
   "outputs": [
    {
     "data": {
      "text/plain": [
       "3"
      ]
     },
     "execution_count": 3,
     "metadata": {},
     "output_type": "execute_result"
    }
   ],
   "source": [
    "#second largest\n",
    "def secondLargest(li):\n",
    "    unique=[]\n",
    "    for n in li:\n",
    "        if n not in unique:\n",
    "            unique.append(n)\n",
    "    unique=sorted(unique,reverse=True)\n",
    "    return unique[4]\n",
    "secondLargest([1,2,3,4,5,8,7,4,3,5,7,7,8,8])\n",
    "#ith open() as f:\n",
    " #  t=int(input())\n",
    "  # for i in range(t):\n",
    "   #    s=input()\n",
    "    #   k=int(input())\n",
    "     #  print(kLargestFrequency(s,k))"
   ]
  },
  {
   "cell_type": "code",
   "execution_count": 4,
   "metadata": {},
   "outputs": [
    {
     "name": "stdout",
     "output_type": "stream",
     "text": [
      "4\n"
     ]
    },
    {
     "data": {
      "text/plain": [
       "3"
      ]
     },
     "execution_count": 4,
     "metadata": {},
     "output_type": "execute_result"
    }
   ],
   "source": [
    "# Kth largest\n",
    "def kthLargest(li):\n",
    "    unique=[]\n",
    "    for n in li:\n",
    "        if n not in unique:\n",
    "            unique.append(n)\n",
    "    unique=sorted(unique,reverse=True)\n",
    "    return unique[k-1]\n",
    "k=int(input())\n",
    "kthLargest([1,2,3,4,5,8,7,4,3,5,7,7,8,8])"
   ]
  },
  {
   "cell_type": "code",
   "execution_count": 8,
   "metadata": {},
   "outputs": [
    {
     "data": {
      "text/plain": [
       "3"
      ]
     },
     "execution_count": 8,
     "metadata": {},
     "output_type": "execute_result"
    }
   ],
   "source": [
    "# Kth smallest\n",
    "def kthsmallest(li,k):\n",
    "    unique=[]\n",
    "    for n in li:\n",
    "        if n not in unique:\n",
    "            unique.append(n)\n",
    "    unique=sorted(unique)\n",
    "    if len(unique)>=k:\n",
    "        return unique[k-1]\n",
    "    return -1\n",
    "kthsmallest([9,3,6,2,1,3,5],3)"
   ]
  },
  {
   "cell_type": "code",
   "execution_count": 62,
   "metadata": {},
   "outputs": [
    {
     "data": {
      "text/plain": [
       "-1"
      ]
     },
     "execution_count": 62,
     "metadata": {},
     "output_type": "execute_result"
    }
   ],
   "source": [
    "#Function to identify the kth highest frequency in a list if they are having same frequency\n",
    "def highestfrequency(li,k):\n",
    "    d={}\n",
    "    for i in li:\n",
    "        if i not in d:\n",
    "            d[i]=1\n",
    "        else:\n",
    "            d[i]+=1\n",
    "    a=max(d.values())\n",
    "    highfre=[]\n",
    "    for item in d.items():\n",
    "        if item[1]==a:\n",
    "            #print(item[1])-->for print item value in dictionary\n",
    "            #print(item[0])-->for print item in dictionary\n",
    "            highfre.append(item[0])\n",
    "    b=len(highfre)\n",
    "    if(k<=b):\n",
    "        highfre=sorted(highfre,reverse=True)\n",
    "        return highfre[k-1]\n",
    "    else:\n",
    "        return -1\n",
    "highestfrequency([1,2,3,5,6,7,1,2,2,2,1,3,3,3,1],4)"
   ]
  },
  {
   "cell_type": "code",
   "execution_count": 58,
   "metadata": {},
   "outputs": [
    {
     "data": {
      "text/plain": [
       "5"
      ]
     },
     "execution_count": 58,
     "metadata": {},
     "output_type": "execute_result"
    }
   ],
   "source": [
    "#Function to identify second higest freequency elements\n",
    "#if there are many then print min element\n",
    "#Function to identify the highest frequency in a list\n",
    "def secondfrequency(li,k):\n",
    "    d={}\n",
    "    for i in li:\n",
    "        if i not in d:\n",
    "            d[i]=1\n",
    "        else:\n",
    "            d[i]+=1\n",
    "    a=list(set(list(d.values())))\n",
    "    b=a[-2]\n",
    "    highfre=[]\n",
    "    for item in d.items():\n",
    "        if item[1]==b:\n",
    "            #print(item[1])-->for print item value in dictionary\n",
    "            #print(item[0])-->for print item in dictionary\n",
    "            highfre.append(item[0])\n",
    "    highfre=sorted(highfre)\n",
    "    return highfre[0]\n",
    "secondfrequency([1,2,3,5,6,7,1,2,2,2,1,3,3,3,1],2)"
   ]
  },
  {
   "cell_type": "code",
   "execution_count": 69,
   "metadata": {},
   "outputs": [
    {
     "data": {
      "text/plain": [
       "2"
      ]
     },
     "execution_count": 69,
     "metadata": {},
     "output_type": "execute_result"
    }
   ],
   "source": [
    "#Function to find kth highest\n",
    "def kthhigh(li,k):\n",
    "    d={}\n",
    "    for i in li:\n",
    "        if i not in d:\n",
    "            d[i]=1\n",
    "        else:\n",
    "            d[i]+=1\n",
    "    a=list(set(list(d.values())))\n",
    "    b=a[-k]\n",
    "    highfre=[]\n",
    "    for item in d.items():\n",
    "        if item[1]==b:\n",
    "            #print(item[1])-->for print item value in dictionary\n",
    "            #print(item[0])-->for print item in dictionary\n",
    "            highfre.append(item[0])\n",
    "    highfre=sorted(highfre)\n",
    "    return highfre[0]\n",
    "kthhigh([9,8,7,6,5,2,3,4,9,6,7,7,7,6,7,6],4)\n",
    "    "
   ]
  },
  {
   "cell_type": "code",
   "execution_count": 2,
   "metadata": {},
   "outputs": [
    {
     "name": "stdout",
     "output_type": "stream",
     "text": [
      "[1, 2, 4, 5]\n",
      "[2, 3, 4, 5, 8]\n"
     ]
    },
    {
     "data": {
      "text/plain": [
       "2"
      ]
     },
     "execution_count": 2,
     "metadata": {},
     "output_type": "execute_result"
    }
   ],
   "source": [
    "#Function to find kth lowest\n",
    "def kthlowest(li,k):\n",
    "    d={}\n",
    "    for i in li:\n",
    "        if i not in d:\n",
    "            d[i]=1\n",
    "        else:\n",
    "            d[i]+=1\n",
    "    a=list(set(list(d.values())))\n",
    "    print(a)\n",
    "    b=a[k-1]\n",
    "    lowfre=[]\n",
    "    for item in d.items():\n",
    "        if item[1]==b:\n",
    "            lowfre.append(item[0])\n",
    "    lowfre=sorted(lowfre)\n",
    "    print(lowfre)\n",
    "    return lowfre[0]\n",
    "kthlowest([9,8,7,6,5,2,3,4,9,6,7,7,7,6,7,6],1)\n",
    "    "
   ]
  },
  {
   "cell_type": "code",
   "execution_count": null,
   "metadata": {},
   "outputs": [],
   "source": [
    "#testcase \n",
    "def kthhigh(li,k):\n",
    "    d={}\n",
    "    for i in li:\n",
    "        if i not in d:\n",
    "            d[i]=1\n",
    "        else:\n",
    "            d[i]+=1\n",
    "    a=list(set(list(d.values())))\n",
    "    b=a[-k]\n",
    "    highfre=[]\n",
    "    for item in d.items():\n",
    "        if item[1]==b:\n",
    "            #print(item[1])-->for print item value in dictionary\n",
    "            #print(item[0])-->for print item in dictionary\n",
    "            highfre.append(item[0])\n",
    "    highfre=sorted(highfre)\n",
    "    #print(highfre)\n",
    "    return highfre[0]\n",
    "s=list(input())\n",
    "k=int(input())\n",
    "kthhigh(s,k)"
   ]
  },
  {
   "cell_type": "code",
   "execution_count": null,
   "metadata": {},
   "outputs": [],
   "source": []
  }
 ],
 "metadata": {
  "kernelspec": {
   "display_name": "Python 3",
   "language": "python",
   "name": "python3"
  },
  "language_info": {
   "codemirror_mode": {
    "name": "ipython",
    "version": 3
   },
   "file_extension": ".py",
   "mimetype": "text/x-python",
   "name": "python",
   "nbconvert_exporter": "python",
   "pygments_lexer": "ipython3",
   "version": "3.7.3"
  }
 },
 "nbformat": 4,
 "nbformat_minor": 2
}
