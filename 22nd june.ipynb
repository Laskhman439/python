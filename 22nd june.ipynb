{
 "cells": [
  {
   "cell_type": "markdown",
   "metadata": {},
   "source": [
    "### 22nd June 2019\n",
    "### Day Objectives\n",
    "- File Handling\n",
    "    - Basic File Data processing\n",
    "        - Accessing and Modifying File data\n",
    "    - Character Count \n",
    "    - Line Count\n",
    "    - File Size\n",
    "    - Word Count\n",
    "    - Unique Word Count"
   ]
  },
  {
   "cell_type": "code",
   "execution_count": 63,
   "metadata": {},
   "outputs": [
    {
     "name": "stdout",
     "output_type": "stream",
     "text": [
      "3\n"
     ]
    }
   ],
   "source": [
    "# Read a File - File should exist\n",
    "# Write to a File - Existing(append mode) or New File(write mode)\n",
    "def readFile(filepath):\n",
    "    with open(filepath,'r') as f:\n",
    "        #print(f.__sizeof__())\n",
    "        lineno=1\n",
    "        lines=f.readlines()\n",
    "        s=0\n",
    "        fw=open(filepath,'w')\n",
    "        for i in lines:\n",
    "            print(lineno,i,end=\"\",sep=\".\",file=fw)\n",
    "            lineno+=1\n",
    "            #lines=lines+1\n",
    "            #s=s+1\n",
    "        print(lineno-1)\n",
    "        #print(s)\n",
    "        fw.close()\n",
    "\n",
    "    \n",
    "filepath='Datafiles/data.txt'\n",
    "readFile(filepath)"
   ]
  },
  {
   "cell_type": "code",
   "execution_count": 2,
   "metadata": {},
   "outputs": [
    {
     "name": "stdout",
     "output_type": "stream",
     "text": [
      "3\n"
     ]
    }
   ],
   "source": [
    "#line count\n",
    "def readFile(filepath):\n",
    "    with open(filepath,'r') as f:\n",
    "        s=0\n",
    "        for lines in f.readlines():\n",
    "            s=s+1\n",
    "        print(s)  \n",
    "filepath='Datafiles/data.txt'\n",
    "readFile(filepath)"
   ]
  },
  {
   "cell_type": "code",
   "execution_count": 13,
   "metadata": {},
   "outputs": [
    {
     "name": "stdout",
     "output_type": "stream",
     "text": [
      "221\n",
      "884\n"
     ]
    }
   ],
   "source": [
    "#char count and size\n",
    "def charcount(filepath):\n",
    "    with open(filepath,'r') as f:\n",
    "        sum=0\n",
    "        for lines in f.readlines():\n",
    "            sum+=len(lines)\n",
    "    print(sum)\n",
    "    print(sum*4)\n",
    "charcount(filepath)\n",
    "        "
   ]
  },
  {
   "cell_type": "code",
   "execution_count": 9,
   "metadata": {},
   "outputs": [
    {
     "name": "stdout",
     "output_type": "stream",
     "text": [
      "['india', 'won', 'the', 'toss', 'and', 'elected', 'to', 'field', 'first@indiancricketteam.com', 'dhoni', 'finish', 'in', 'his', 'style', 'india', 'lift', 'the', 'worldcup', 'after', '28', 'years', 'what', 'magnificiant', 'finish', 'and', 'team', 'india', 'clebrations', 'started', 'in', 'dressing', 'room', 'iam', 'student']\n"
     ]
    },
    {
     "data": {
      "text/plain": [
       "34"
      ]
     },
     "execution_count": 9,
     "metadata": {},
     "output_type": "execute_result"
    }
   ],
   "source": [
    "#word count\n",
    "def wordcount(filepath):\n",
    "    with open(filepath,'r') as f:\n",
    "        pattern=' \\n'\n",
    "        count=0\n",
    "        filedata=f.read()\n",
    "        words=filedata.split();\n",
    "        print(words)\n",
    "        return len(words)\n",
    "wordcount(filepath)"
   ]
  },
  {
   "cell_type": "code",
   "execution_count": null,
   "metadata": {},
   "outputs": [],
   "source": []
  },
  {
   "cell_type": "code",
   "execution_count": 21,
   "metadata": {},
   "outputs": [
    {
     "name": "stdout",
     "output_type": "stream",
     "text": [
      "['started', 'to', 'after', 'dressing', 'room', 'magnificiant', 'iam', 'team', 'won', 'what', 'elected', 'the', 'years', 'toss', 'worldcup', 'student', 'in', 'finish', 'first@indiancricketteam.com', 'india', '28', 'field', 'clebrations', 'lift', 'style', 'dhoni', 'his', 'and']\n"
     ]
    }
   ],
   "source": [
    "#Unique word\n",
    "def unique(filepath):\n",
    "    unique=[]\n",
    "    with open(filepath,'r') as f:\n",
    "        filedata=f.read()\n",
    "        words=filedata.split()\n",
    "        words=list(set(words))\n",
    "        print(words)\n",
    "unique(filepath)"
   ]
  },
  {
   "cell_type": "code",
   "execution_count": null,
   "metadata": {},
   "outputs": [],
   "source": []
  },
  {
   "cell_type": "code",
   "execution_count": null,
   "metadata": {},
   "outputs": [],
   "source": []
  }
 ],
 "metadata": {
  "kernelspec": {
   "display_name": "Python 3",
   "language": "python",
   "name": "python3"
  },
  "language_info": {
   "codemirror_mode": {
    "name": "ipython",
    "version": 3
   },
   "file_extension": ".py",
   "mimetype": "text/x-python",
   "name": "python",
   "nbconvert_exporter": "python",
   "pygments_lexer": "ipython3",
   "version": "3.7.3"
  }
 },
 "nbformat": 4,
 "nbformat_minor": 2
}
