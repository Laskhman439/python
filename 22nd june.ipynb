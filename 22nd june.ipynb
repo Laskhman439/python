{
 "cells": [
  {
   "cell_type": "markdown",
   "metadata": {},
   "source": [
    "### 22nd June 2019\n",
    "### DAy Objectives\n",
    "- File Handling\n",
    "    - Basic File Data processing\n",
    "        - Accessing and Modifying File data\n",
    "    - Character Count \n",
    "    - Line Count\n",
    "    - File Size\n",
    "    - Word Count\n",
    "    - Unique Word Count"
   ]
  },
  {
   "cell_type": "code",
   "execution_count": 46,
   "metadata": {},
   "outputs": [
    {
     "name": "stdout",
     "output_type": "stream",
     "text": [
      "192\n",
      "akashsinhamsdhoni\n",
      "msdhoni\n",
      "msdhoni\n",
      "3\n",
      "34\n"
     ]
    }
   ],
   "source": [
    "# Read a File - File should exist\n",
    "# Write to a File - Existing(append mode) or New File(write mode)\n",
    "def readFile(filepath):\n",
    "    with open(filepath,'r') as f:\n",
    "        print(f.__sizeof__())\n",
    "        lines=0\n",
    "        s=0\n",
    "        for i in f.readlines():\n",
    "            print(i,end=\"\")\n",
    "            lines=lines+1\n",
    "            s=s+len(i)\n",
    "        print(lines)\n",
    "        print(s)\n",
    "    \n",
    "filepath='Datafiles/data.txt'\n",
    "readFile(filepath)"
   ]
  },
  {
   "cell_type": "code",
   "execution_count": 37,
   "metadata": {},
   "outputs": [],
   "source": [
    "a='68'"
   ]
  },
  {
   "cell_type": "code",
   "execution_count": 38,
   "metadata": {},
   "outputs": [
    {
     "data": {
      "text/plain": [
       "51"
      ]
     },
     "execution_count": 38,
     "metadata": {},
     "output_type": "execute_result"
    }
   ],
   "source": []
  },
  {
   "cell_type": "code",
   "execution_count": 26,
   "metadata": {},
   "outputs": [
    {
     "name": "stdout",
     "output_type": "stream",
     "text": [
      "Help on built-in function __sizeof__:\n",
      "\n",
      "__sizeof__() method of builtins.int instance\n",
      "    Returns size in memory, in bytes.\n",
      "\n"
     ]
    }
   ],
   "source": [
    "help(.__sizeof__)"
   ]
  },
  {
   "cell_type": "code",
   "execution_count": null,
   "metadata": {},
   "outputs": [],
   "source": []
  }
 ],
 "metadata": {
  "kernelspec": {
   "display_name": "Python 3",
   "language": "python",
   "name": "python3"
  },
  "language_info": {
   "codemirror_mode": {
    "name": "ipython",
    "version": 3
   },
   "file_extension": ".py",
   "mimetype": "text/x-python",
   "name": "python",
   "nbconvert_exporter": "python",
   "pygments_lexer": "ipython3",
   "version": "3.7.3"
  }
 },
 "nbformat": 4,
 "nbformat_minor": 2
}
