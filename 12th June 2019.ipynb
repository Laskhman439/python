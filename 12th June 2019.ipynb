{
 "cells": [
  {
   "cell_type": "markdown",
   "metadata": {},
   "source": [
    "# program solving and \n",
    "## 12th june 2019\n",
    "* Day Objectives\n",
    "* String Scaling\n",
    "* Functions in Python\n",
    "* Basic Problems related to conditional statement using functions\n",
    "* Iterations in Python\n",
    "* Python Data Structures-Lists,Tuples and Dictionaries\n",
    "    * Operations on data structures\n",
    "    * Applying Data Structures to solve problems"
   ]
  },
  {
   "cell_type": "markdown",
   "metadata": {},
   "source": [
    "## string slicing"
   ]
  },
  {
   "cell_type": "code",
   "execution_count": 1,
   "metadata": {},
   "outputs": [
    {
     "data": {
      "text/plain": [
       "'daaku'"
      ]
     },
     "execution_count": 1,
     "metadata": {},
     "output_type": "execute_result"
    }
   ],
   "source": [
    "s1=\"luckyadaad\"\n",
    "s1[0] #output-l means firt char accessing\n",
    "s1[-1] #output-y means last char accessing\n",
    "s1[len(s1)-1] #output-y this also for accessing last char\n",
    "s1[-1] #access last char\n",
    "s1[0:2] #access char from first to boundary\n",
    "s1[-2:] #access last two char\n",
    "s1[4:] #access after 4th char\n",
    "s1[-1:1] #access without first and last char\n",
    "s1[len(s1)//2] #access the middle char for a odd len string\n",
    "s1[(len(s1)//2)-1:(len(s1)//2)+1] #access the middle chars for even len string\n",
    "s1[-1::-1] #for reverse the given string\n",
    "s1[-1:-6:-1] #revere the particular string(range)\n",
    "s1[len(s1)//2:(len(s1)//2-2):-1]#for printing reverse of middle chars\n",
    "s1[::2]#accepting alternate chars\n",
    "s1[::-2]#acces alternate chars from reverse\n"
   ]
  },
  {
   "cell_type": "markdown",
   "metadata": {},
   "source": [
    "# functions"
   ]
  },
  {
   "cell_type": "code",
   "execution_count": 81,
   "metadata": {},
   "outputs": [
    {
     "data": {
      "text/plain": [
       "'nohtyp'"
      ]
     },
     "execution_count": 81,
     "metadata": {},
     "output_type": "execute_result"
    }
   ],
   "source": [
    "#function to revers a string\n",
    "def reverseString(s):\n",
    "    return s[::-1]\n",
    "reverseString(\"python\")"
   ]
  },
  {
   "cell_type": "code",
   "execution_count": 85,
   "metadata": {},
   "outputs": [
    {
     "name": "stdout",
     "output_type": "stream",
     "text": [
      "palindrome\n"
     ]
    }
   ],
   "source": [
    "#function to check if a string is a palindrome\n",
    "def palindrome(s):\n",
    "    if s==s[::-1]:\n",
    "        print(\"palindrome\")\n",
    "    else:\n",
    "        print(\"not a palindrome\")\n",
    "palindrome(\"131\")"
   ]
  },
  {
   "cell_type": "code",
   "execution_count": 89,
   "metadata": {},
   "outputs": [
    {
     "data": {
      "text/plain": [
       "True"
      ]
     },
     "execution_count": 89,
     "metadata": {},
     "output_type": "execute_result"
    }
   ],
   "source": [
    "#leap year checking\n",
    "def leapyear(s):\n",
    "    if s%400==0 or (s%100!=0 and s%4==0):\n",
    "        return True\n",
    "    else:\n",
    "        return False\n",
    "leapyear(2016)\n",
    "        \n",
    "            "
   ]
  },
  {
   "cell_type": "code",
   "execution_count": 110,
   "metadata": {},
   "outputs": [
    {
     "name": "stdout",
     "output_type": "stream",
     "text": [
      "enter a numberasdf\n"
     ]
    },
    {
     "data": {
      "text/plain": [
       "4"
      ]
     },
     "execution_count": 110,
     "metadata": {},
     "output_type": "execute_result"
    }
   ],
   "source": [
    "#Function to count no of digits in a given number\n",
    "s=input(\"enter a number or string\")\n",
    "def digits(a):\n",
    "    return len(a)\n",
    "digits(s)\n",
    "        "
   ]
  },
  {
   "cell_type": "code",
   "execution_count": 109,
   "metadata": {},
   "outputs": [
    {
     "name": "stdout",
     "output_type": "stream",
     "text": [
      "enter a number2\n",
      "enter a number3\n",
      "enter a number4\n",
      "enter a number5\n"
     ]
    },
    {
     "data": {
      "text/plain": [
       "5"
      ]
     },
     "execution_count": 109,
     "metadata": {},
     "output_type": "execute_result"
    }
   ],
   "source": [
    "#Funtion to identify the greatest of 4 numbers\n",
    "a=int(input(\"enter a number\"))\n",
    "b=int(input(\"enter a number\"))\n",
    "c=int(input(\"enter a number\"))\n",
    "d=int(input(\"enter a number\"))\n",
    "def greatest(n1,n2,n3,n4):\n",
    "    if n1>n2 and n1>n3 and n1>n4:\n",
    "        return n1\n",
    "    elif n2>n3 and n2>n4:\n",
    "        return n2\n",
    "    elif n3>n4:\n",
    "        return n3\n",
    "    else:\n",
    "        return n4\n",
    "greatest(a,b,c,d)\n",
    "    "
   ]
  },
  {
   "cell_type": "markdown",
   "metadata": {},
   "source": [
    "## Iteration\n",
    "- for\n",
    "- while\n"
   ]
  },
  {
   "cell_type": "code",
   "execution_count": 103,
   "metadata": {},
   "outputs": [
    {
     "name": "stdout",
     "output_type": "stream",
     "text": [
      "enter a number40\n",
      "1 2 3 4 5 6 7 8 9 10 11 12 13 14 15 16 17 18 19 20 21 22 23 24 25 26 27 28 29 30 31 32 33 34 35 36 37 38 39 40 "
     ]
    }
   ],
   "source": [
    "#Functi0n to print n natural numbers using for\n",
    "s=int(input(\"enter a number\"))\n",
    "def printNnaturalNumbers(n):\n",
    "    for counter in range(1,n+1):\n",
    "        print(counter,end=\" \")\n",
    "printNnaturalNumbers(s)"
   ]
  },
  {
   "cell_type": "code",
   "execution_count": 114,
   "metadata": {},
   "outputs": [
    {
     "name": "stdout",
     "output_type": "stream",
     "text": [
      "enter a number32\n",
      "1 2 3 4 5 6 7 8 9 10 11 12 13 14 15 16 17 18 19 20 21 22 23 24 25 26 27 28 29 30 31 32 "
     ]
    }
   ],
   "source": [
    "#Function to print n natural numbers using while\n",
    "s=int(input(\"enter a number\"))\n",
    "def natural(n):\n",
    "    counter=1\n",
    "    while counter<=n:\n",
    "        print(counter,end=\" \")\n",
    "        counter=counter+1\n",
    "    return\n",
    "natural(s)\n",
    "    "
   ]
  },
  {
   "cell_type": "code",
   "execution_count": 117,
   "metadata": {},
   "outputs": [
    {
     "name": "stdout",
     "output_type": "stream",
     "text": [
      "enter a number1\n",
      "enter a number1000\n",
      "6 12 18 24 30 36 42 48 54 60 66 72 78 84 90 96 102 108 114 120 126 132 138 144 150 156 162 168 174 180 186 192 198 204 210 216 222 228 234 240 246 252 258 264 270 276 282 288 294 306 312 318 324 330 336 342 348 354 360 366 372 378 384 390 396 402 408 414 420 426 432 438 444 450 456 462 468 474 480 486 492 498 504 510 516 522 528 534 540 546 552 558 564 570 576 582 588 594 606 612 618 624 630 636 642 648 654 660 666 672 678 684 690 696 702 708 714 720 726 732 738 744 750 756 762 768 774 780 786 792 798 804 810 816 822 828 834 840 846 852 858 864 870 876 882 888 894 906 912 918 924 930 936 942 948 954 960 966 972 978 984 990 996 "
     ]
    }
   ],
   "source": [
    "#function to print all numbers divisible by 6\n",
    "#not a factor of 100 in agiven range \n",
    "s=int(input(\"enter a number\"))\n",
    "t=int(input(\"enter a number\"))\n",
    "def divisiblefact(a,b):\n",
    "    for counter in range(a,b):\n",
    "        if counter%6==0 and counter%100!=0:\n",
    "            print(counter,end=\" \")\n",
    "divisiblefact(s,t)\n"
   ]
  },
  {
   "cell_type": "code",
   "execution_count": 153,
   "metadata": {},
   "outputs": [
    {
     "name": "stdout",
     "output_type": "stream",
     "text": [
      "enter a number1\n",
      "enter a number3\n",
      "8.0\n"
     ]
    }
   ],
   "source": [
    "#function to find the average of cubes of all even numbers in given range inclusive\n",
    "s=int(input(\"enter a number\"))\n",
    "t=int(input(\"enter a number\"))\n",
    "def cubesaverage(a,b):\n",
    "    counter=a\n",
    "    count=0\n",
    "    sum=0\n",
    "    while counter<=b:\n",
    "        if counter%2==0:\n",
    "            sum=sum+counter**3\n",
    "            count=count+1\n",
    "        counter=counter+1\n",
    "    print(sum/count)\n",
    "cubesaverage(s,t)\n",
    "    "
   ]
  },
  {
   "cell_type": "code",
   "execution_count": 139,
   "metadata": {},
   "outputs": [
    {
     "name": "stdout",
     "output_type": "stream",
     "text": [
      "enter a number9\n",
      "not prime\n"
     ]
    }
   ],
   "source": [
    "#3function to check if a given number is prime \n",
    "s=int(input(\"enter a number\"))\n",
    "def prime(a):\n",
    "    c=2\n",
    "    b=0\n",
    "    while c<=a:\n",
    "        if a%c==0:\n",
    "            b=b+1\n",
    "        c=c+1\n",
    "    if b==1:\n",
    "        print(\"prime\")\n",
    "    else:\n",
    "        print(\"not prime\")\n",
    "prime(s)"
   ]
  },
  {
   "cell_type": "code",
   "execution_count": 10,
   "metadata": {},
   "outputs": [
    {
     "name": "stdout",
     "output_type": "stream",
     "text": [
      "enter a number9\n",
      "4.25\n"
     ]
    }
   ],
   "source": [
    "#4function to calculate the average of prime numbers in given range\n",
    "s=int(input(\"enter a number\"))\n",
    "def avgprime(n):\n",
    "    sum=0\n",
    "    count=0\n",
    "    a=2\n",
    "    b=1 \n",
    "    for a in range(a,n+1):\n",
    "        g=0\n",
    "        for b in range(1,a+1):\n",
    "            if a%b==0:\n",
    "                g=g+1\n",
    "        if g==2:\n",
    "            sum=sum+a\n",
    "            count=count+1\n",
    "    print(sum/count)\n",
    "avgprime(s)\n",
    "    \n",
    "        \n",
    "    "
   ]
  },
  {
   "cell_type": "code",
   "execution_count": 135,
   "metadata": {},
   "outputs": [
    {
     "name": "stdout",
     "output_type": "stream",
     "text": [
      "enter a number12\n",
      "1\n",
      "2\n",
      "3\n",
      "4\n",
      "6\n",
      "12\n"
     ]
    }
   ],
   "source": [
    "#1function to generate the list of factors for agiven number eg=12\n",
    "s=int(input(\"enter a number\"))\n",
    "def fact(a):\n",
    "    c=1\n",
    "    while c<=a:\n",
    "        if a%c==0:\n",
    "            print(c)\n",
    "        c=c+1\n",
    "fact(s)"
   ]
  },
  {
   "cell_type": "code",
   "execution_count": 152,
   "metadata": {},
   "outputs": [
    {
     "name": "stdout",
     "output_type": "stream",
     "text": [
      "enter a number10\n",
      "3628800\n"
     ]
    }
   ],
   "source": [
    "#2function to caculate factorial of a given number\n",
    "s=int(input(\"enter a number\"))\n",
    "def fact(a):\n",
    "    b=1\n",
    "    d=1\n",
    "    while b<=a:\n",
    "            d=d*b\n",
    "            b=b+1\n",
    "    print(d)\n",
    "fact(s)"
   ]
  },
  {
   "cell_type": "code",
   "execution_count": 157,
   "metadata": {},
   "outputs": [
    {
     "name": "stdout",
     "output_type": "stream",
     "text": [
      "enter a number8\n",
      "not a perfect\n"
     ]
    }
   ],
   "source": [
    "#5function to generate all perfect nubers in a geven range\n",
    "s=int(input(\"enter a number\"))\n",
    "def perfect(n):\n",
    "    c=0\n",
    "    a=1\n",
    "    while a<n:\n",
    "        if n%a==0:\n",
    "            c=c+a\n",
    "        a=a+1\n",
    "    if(c==n):\n",
    "        print(\"perfect\")\n",
    "    else:\n",
    "        print(\"not a perfect\")\n",
    "perfect(s)\n",
    "        "
   ]
  },
  {
   "cell_type": "code",
   "execution_count": 15,
   "metadata": {},
   "outputs": [
    {
     "name": "stdout",
     "output_type": "stream",
     "text": [
      "enter a number4\n",
      "2\n",
      "3\n",
      "5\n",
      "7\n",
      "4.25\n"
     ]
    }
   ],
   "source": [
    "#function to generate average of first n prime numbers\n",
    "b=int(input(\"enter a number\"))\n",
    "def avgfirstN(a):\n",
    "    sum=0\n",
    "    count=0\n",
    "    i=2\n",
    "    while count<a:  \n",
    "        n=1\n",
    "        g=0\n",
    "        while n<=i:\n",
    "            if i%n==0:\n",
    "                g=g+1\n",
    "            n=n+1\n",
    "        if g==2:\n",
    "            count=count+1\n",
    "            sum=sum+i\n",
    "            print(i)\n",
    "        i=i+1\n",
    "    print(sum/count)      \n",
    "avgfirstN(b)\n"
   ]
  },
  {
   "cell_type": "code",
   "execution_count": 16,
   "metadata": {},
   "outputs": [],
   "source": [
    "#function to caculate average of all factorial in given range \n",
    "#function to generate N odd armstrong numbers\n",
    "#Function to generate Multiplication table for a number in a given range\n",
    "    #10 in the range (100,102)inclusive\n",
    "    #10*100=1010\n",
    "    #10*101=1020\n",
    "    #10*103=1030"
   ]
  },
  {
   "cell_type": "code",
   "execution_count": 39,
   "metadata": {},
   "outputs": [
    {
     "name": "stdout",
     "output_type": "stream",
     "text": [
      "enter a lb1\n",
      "enter a ub5\n",
      "30.6\n"
     ]
    }
   ],
   "source": [
    "#funnction to calculate avg of all factorial in given range\n",
    "s=int(input(\"enter a lb\"))\n",
    "t=int(input(\"enter a ub\"))\n",
    "def avgfact(a,b):\n",
    "    sum=0\n",
    "    c=a\n",
    "    count=0 \n",
    "    while c<=b:\n",
    "        d=1\n",
    "        e=1\n",
    "        while d<=c:\n",
    "            e=e*d\n",
    "            d=d+1\n",
    "        sum=sum+e\n",
    "        count=count+1\n",
    "        c=c+1\n",
    "    print(sum/count)\n",
    "avgfact(s,t)"
   ]
  },
  {
   "cell_type": "code",
   "execution_count": 60,
   "metadata": {},
   "outputs": [
    {
     "name": "stdout",
     "output_type": "stream",
     "text": [
      "enter a number5\n",
      "1 3 5 7 9 153 "
     ]
    }
   ],
   "source": [
    "#function to generate N odd armstrong numbers\n",
    "s=int(input(\"enter a number\"))\n",
    "def Narmstrong(n):\n",
    "    i=1\n",
    "    count=0\n",
    "    while count<=n:\n",
    "        g=0\n",
    "        temp=i\n",
    "        b=len(str(i))\n",
    "        while i!=0:\n",
    "            r=i%10\n",
    "            g=g+(r**b)\n",
    "            i=i//10   \n",
    "        if g==temp and g&1:\n",
    "            print(g,end=\" \")\n",
    "            count=count+1\n",
    "        i=temp+1\n",
    "Narmstrong(s)        \n",
    "    "
   ]
  },
  {
   "cell_type": "code",
   "execution_count": 81,
   "metadata": {},
   "outputs": [
    {
     "name": "stdout",
     "output_type": "stream",
     "text": [
      "enter a number10\n",
      "enter lb100\n",
      "enter ub105\n",
      "10 * 100 = 1000\n",
      "10 * 101 = 1010\n",
      "10 * 102 = 1020\n",
      "10 * 103 = 1030\n",
      "10 * 104 = 1040\n",
      "10 * 105 = 1050\n"
     ]
    }
   ],
   "source": [
    "#Function to generate Multiplication table for a number in a given range\n",
    "    #10 in the range (100,102)inclusive\n",
    "    #10*100=1010\n",
    "    #10*101=1020\n",
    "    #10*103=1030\n",
    "b=int(input(\"enter a number\"))\n",
    "l=int(input(\"enter lb\"))\n",
    "u=int(input(\"enter ub\"))\n",
    "def table(s,lb,ub):\n",
    "    a=lb\n",
    "    while(a<ub+1):\n",
    "        print(s,\"*\",a,\"=\",s*a)\n",
    "        a=a+1\n",
    "table(b,l,u)\n",
    "    "
   ]
  },
  {
   "cell_type": "code",
   "execution_count": null,
   "metadata": {},
   "outputs": [],
   "source": []
  }
 ],
 "metadata": {
  "kernelspec": {
   "display_name": "Python 3",
   "language": "python",
   "name": "python3"
  },
  "language_info": {
   "codemirror_mode": {
    "name": "ipython",
    "version": 3
   },
   "file_extension": ".py",
   "mimetype": "text/x-python",
   "name": "python",
   "nbconvert_exporter": "python",
   "pygments_lexer": "ipython3",
   "version": "3.7.3"
  }
 },
 "nbformat": 4,
 "nbformat_minor": 2
}
