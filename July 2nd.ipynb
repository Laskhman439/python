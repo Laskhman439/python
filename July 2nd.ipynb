{
 "cells": [
  {
   "cell_type": "markdown",
   "metadata": {},
   "source": [
    "## practice on apple store data\n"
   ]
  },
  {
   "cell_type": "code",
   "execution_count": 3,
   "metadata": {
    "scrolled": false
   },
   "outputs": [
    {
     "data": {
      "text/html": [
       "<div>\n",
       "<style scoped>\n",
       "    .dataframe tbody tr th:only-of-type {\n",
       "        vertical-align: middle;\n",
       "    }\n",
       "\n",
       "    .dataframe tbody tr th {\n",
       "        vertical-align: top;\n",
       "    }\n",
       "\n",
       "    .dataframe thead th {\n",
       "        text-align: right;\n",
       "    }\n",
       "</style>\n",
       "<table border=\"1\" class=\"dataframe\">\n",
       "  <thead>\n",
       "    <tr style=\"text-align: right;\">\n",
       "      <th></th>\n",
       "      <th>Unnamed: 0</th>\n",
       "      <th>id</th>\n",
       "      <th>track_name</th>\n",
       "      <th>size_bytes</th>\n",
       "      <th>currency</th>\n",
       "      <th>price</th>\n",
       "      <th>rating_count_tot</th>\n",
       "      <th>rating_count_ver</th>\n",
       "      <th>user_rating</th>\n",
       "      <th>user_rating_ver</th>\n",
       "      <th>ver</th>\n",
       "      <th>cont_rating</th>\n",
       "      <th>prime_genre</th>\n",
       "      <th>sup_devices.num</th>\n",
       "      <th>ipadSc_urls.num</th>\n",
       "      <th>lang.num</th>\n",
       "      <th>vpp_lic</th>\n",
       "    </tr>\n",
       "  </thead>\n",
       "  <tbody>\n",
       "    <tr>\n",
       "      <th>0</th>\n",
       "      <td>1</td>\n",
       "      <td>281656475</td>\n",
       "      <td>PAC-MAN Premium</td>\n",
       "      <td>100788224</td>\n",
       "      <td>USD</td>\n",
       "      <td>3.99</td>\n",
       "      <td>21292</td>\n",
       "      <td>26</td>\n",
       "      <td>4.0</td>\n",
       "      <td>4.5</td>\n",
       "      <td>6.3.5</td>\n",
       "      <td>4+</td>\n",
       "      <td>Games</td>\n",
       "      <td>38</td>\n",
       "      <td>5</td>\n",
       "      <td>10</td>\n",
       "      <td>1</td>\n",
       "    </tr>\n",
       "    <tr>\n",
       "      <th>1</th>\n",
       "      <td>2</td>\n",
       "      <td>281796108</td>\n",
       "      <td>Evernote - stay organized</td>\n",
       "      <td>158578688</td>\n",
       "      <td>USD</td>\n",
       "      <td>0.00</td>\n",
       "      <td>161065</td>\n",
       "      <td>26</td>\n",
       "      <td>4.0</td>\n",
       "      <td>3.5</td>\n",
       "      <td>8.2.2</td>\n",
       "      <td>4+</td>\n",
       "      <td>Productivity</td>\n",
       "      <td>37</td>\n",
       "      <td>5</td>\n",
       "      <td>23</td>\n",
       "      <td>1</td>\n",
       "    </tr>\n",
       "  </tbody>\n",
       "</table>\n",
       "</div>"
      ],
      "text/plain": [
       "   Unnamed: 0         id                 track_name  size_bytes currency  \\\n",
       "0           1  281656475            PAC-MAN Premium   100788224      USD   \n",
       "1           2  281796108  Evernote - stay organized   158578688      USD   \n",
       "\n",
       "   price  rating_count_tot  rating_count_ver  user_rating  user_rating_ver  \\\n",
       "0   3.99             21292                26          4.0              4.5   \n",
       "1   0.00            161065                26          4.0              3.5   \n",
       "\n",
       "     ver cont_rating   prime_genre  sup_devices.num  ipadSc_urls.num  \\\n",
       "0  6.3.5          4+         Games               38                5   \n",
       "1  8.2.2          4+  Productivity               37                5   \n",
       "\n",
       "   lang.num  vpp_lic  \n",
       "0        10        1  \n",
       "1        23        1  "
      ]
     },
     "execution_count": 3,
     "metadata": {},
     "output_type": "execute_result"
    }
   ],
   "source": [
    "import pandas as pd\n",
    "datapath='Datafiles/AppleStore.csv'\n",
    "data=pd.read_csv(datapath)\n",
    "data.head(2)"
   ]
  },
  {
   "cell_type": "code",
   "execution_count": 10,
   "metadata": {},
   "outputs": [
    {
     "name": "stdout",
     "output_type": "stream",
     "text": [
      "['Music', 'Weather', 'News', 'Shopping', 'Photo & Video', 'Food & Drink', 'Navigation', 'Book', 'Business', 'Health & Fitness', 'Games', 'Sports', 'Utilities', 'Travel', 'Finance', 'Entertainment', 'Social Networking', 'Productivity', 'Education', 'Medical', 'Catalogs', 'Reference', 'Lifestyle']\n"
     ]
    }
   ],
   "source": [
    "#List of all unique Prime_Genres(categories) in the dataset\n",
    "def uniqueprimegen(df):\n",
    "    li=[]\n",
    "    for key in df.values:\n",
    "        li.append(key[12])\n",
    "    print(list(set(li)))   \n",
    "uniqueprimegen(data)"
   ]
  },
  {
   "cell_type": "code",
   "execution_count": 25,
   "metadata": {},
   "outputs": [
    {
     "name": "stdout",
     "output_type": "stream",
     "text": [
      "Games\n"
     ]
    }
   ],
   "source": [
    "#Category with highest number of apps\n",
    "def cathighnumapp(df):\n",
    "    d={}\n",
    "    for key in df.values:\n",
    "        s=key[12]\n",
    "        if s not in d:\n",
    "            d[s]=1\n",
    "        else:\n",
    "            d[s]+=1\n",
    "    m=max(d.values())\n",
    "    for key in d.keys():\n",
    "         if d[key]==m:\n",
    "                print(key)\n",
    "cathighnumapp(data)"
   ]
  },
  {
   "cell_type": "code",
   "execution_count": 28,
   "metadata": {},
   "outputs": [
    {
     "name": "stdout",
     "output_type": "stream",
     "text": [
      "{'Games': 3862, 'Productivity': 178, 'Weather': 72, 'Shopping': 122, 'Reference': 64, 'Finance': 104, 'Music': 138, 'Utilities': 248, 'Travel': 81, 'Social Networking': 167, 'Sports': 114, 'Business': 57, 'Health & Fitness': 180, 'Entertainment': 535, 'Photo & Video': 349, 'Navigation': 46, 'Education': 453, 'Lifestyle': 144, 'Food & Drink': 63, 'News': 75, 'Book': 112, 'Medical': 23, 'Catalogs': 10}\n",
      "Catalogs\n"
     ]
    }
   ],
   "source": [
    "#Category with lowest number of apps\n",
    "def catminnumapp(df):\n",
    "    d={}\n",
    "    for key in df.values:\n",
    "        s=key[12]\n",
    "        if s not in d:\n",
    "            d[s]=1\n",
    "        else:\n",
    "            d[s]+=1\n",
    "    print(d)\n",
    "    m=min(d.values())\n",
    "    for key in d.keys():\n",
    "         if d[key]==m:\n",
    "                print(key)\n",
    "catminnumapp(data)"
   ]
  },
  {
   "cell_type": "code",
   "execution_count": 28,
   "metadata": {},
   "outputs": [
    {
     "name": "stdout",
     "output_type": "stream",
     "text": [
      "5.0\n",
      "['Music', 'Reference', 'Games', 'Food & Drink', 'Book', 'Medical', 'Utilities', 'Social Networking', 'Business', 'Sports', 'Entertainment', 'Education', 'Weather', 'Navigation', 'News', 'Travel', 'Photo & Video', 'Finance', 'Productivity', 'Catalogs', 'Shopping', 'Health & Fitness', 'Lifestyle']\n"
     ]
    }
   ],
   "source": [
    "#Category with highest user rating\n",
    "def highcatrat(df):\n",
    "    li=[]\n",
    "    li2=[]\n",
    "    for key in df.values:\n",
    "        li.append(key[12])\n",
    "        li2.append(key[8])\n",
    "    m=max(li2)\n",
    "    print(m)\n",
    "    #print(li)\n",
    "    #print(li2)\n",
    "    l=[]\n",
    "    for i in range(len(li2)):\n",
    "        if li2[i]==m:\n",
    "            l.append(li[i])\n",
    "    print(list(set(l)))\n",
    "highcatrat(data)"
   ]
  },
  {
   "cell_type": "code",
   "execution_count": 55,
   "metadata": {},
   "outputs": [
    {
     "name": "stdout",
     "output_type": "stream",
     "text": [
      "Facebook\n"
     ]
    }
   ],
   "source": [
    "#App with highest downloads\n",
    "def highdownloads(df):\n",
    "    li=[]\n",
    "    l=[]\n",
    "    for key in df.values:\n",
    "        li.append(key[6])\n",
    "        l.append(key[2])\n",
    "    ind=li.index(max(li))\n",
    "    print(l[ind])\n",
    "highdownloads(data)"
   ]
  },
  {
   "cell_type": "code",
   "execution_count": 60,
   "metadata": {},
   "outputs": [
    {
     "name": "stdout",
     "output_type": "stream",
     "text": [
      "Social Networking\n"
     ]
    }
   ],
   "source": [
    "#Category with highest average rating count\n",
    "def cat_high_avg_rat_count(df):\n",
    "    li=[]\n",
    "    li2=[]\n",
    "    for key in df.values:\n",
    "        li.append(key[12])\n",
    "        li2.append(key[6])\n",
    "    l=list(set(li))\n",
    "    le=len(l)\n",
    "    a=[]\n",
    "    for i in range(le):\n",
    "        s=0\n",
    "        c=0\n",
    "        for j in range(len(li)):\n",
    "            if l[i]==li[j]:\n",
    "                s+=li2[j]\n",
    "                c+=1\n",
    "        a.append(s/c)\n",
    "    ind=a.index(max(a))\n",
    "    print(l[ind])\n",
    "cat_high_avg_rat_count(data)"
   ]
  },
  {
   "cell_type": "code",
   "execution_count": 53,
   "metadata": {},
   "outputs": [
    {
     "name": "stdout",
     "output_type": "stream",
     "text": [
      "3.3767258382642997\n"
     ]
    }
   ],
   "source": [
    "#Average user rating for free apps\n",
    "def avg_u_r_fre_ap(df):\n",
    "    p=0.0\n",
    "    c=0\n",
    "    s=0\n",
    "    for key in df.values:\n",
    "        if p==key[5]:\n",
    "            s+=key[8]\n",
    "            c+=1\n",
    "    print(s/c)\n",
    "avg_u_r_fre_ap(data)"
   ]
  },
  {
   "cell_type": "code",
   "execution_count": 43,
   "metadata": {},
   "outputs": [
    {
     "data": {
      "text/plain": [
       "3.720948742438714"
      ]
     },
     "execution_count": 43,
     "metadata": {},
     "output_type": "execute_result"
    }
   ],
   "source": [
    "#Average user rating for paid apps\n",
    "def avg_u_r_paid_ap(df):\n",
    "    p=0.0\n",
    "    c=0\n",
    "    s=0\n",
    "    for key in df.values:\n",
    "        if p<key[5]:\n",
    "            s+=key[8]\n",
    "            c+=1\n",
    "    return(s/c)\n",
    "avg_u_r_paid_ap(data)"
   ]
  },
  {
   "cell_type": "code",
   "execution_count": 29,
   "metadata": {},
   "outputs": [
    {
     "data": {
      "text/plain": [
       "12"
      ]
     },
     "execution_count": 29,
     "metadata": {},
     "output_type": "execute_result"
    }
   ],
   "source": [
    "def getcolumnindex(dataframe,keyvalue):\n",
    "    for i in range(len(dataframe.columns)):\n",
    "        if keyvalue==str(dataframe.columns[i]):\n",
    "            return i\n",
    "getcolumnindex(data,\"prime_genre\")"
   ]
  },
  {
   "cell_type": "code",
   "execution_count": 81,
   "metadata": {},
   "outputs": [
    {
     "name": "stdout",
     "output_type": "stream",
     "text": [
      "3\n",
      "Shopping\n"
     ]
    }
   ],
   "source": [
    "#Category with highest average user rating for paid apps\n",
    "def cat_w_hig_avg_ur_pap(df):\n",
    "    p=0.0\n",
    "    li=[]\n",
    "    l=[]\n",
    "    for key in df.values:\n",
    "        if key[5]>p:\n",
    "            li.append(key[12])\n",
    "            l.append(key[8])\n",
    "    b=list(set(li))\n",
    "    d=[]\n",
    "    for i in range(len(b)):\n",
    "        s=0\n",
    "        c=0\n",
    "        for j in range(len(li)):\n",
    "            if b[i]==li[j]:\n",
    "                s+=l[j]\n",
    "                c+=1\n",
    "        d.append(s/c)\n",
    "    e=max(d)\n",
    "    ind=d.index(e)\n",
    "    print(ind)\n",
    "    print(b[ind])\n",
    "    #print(li)\n",
    "cat_w_hig_avg_ur_pap(data)"
   ]
  },
  {
   "cell_type": "code",
   "execution_count": 26,
   "metadata": {},
   "outputs": [
    {
     "name": "stdout",
     "output_type": "stream",
     "text": [
      "{3.99: 277, 0.99: 728, 9.99: 81, 4.99: 394, 7.99: 33, 2.99: 683, 1.99: 621, 5.99: 52, 12.99: 5, 21.99: 1, 249.99: 1, 6.99: 166, 74.99: 1, 19.99: 13, 8.99: 9, 24.99: 8, 13.99: 6, 14.99: 21, 16.99: 2, 47.99: 1, 11.99: 6, 59.99: 3, 15.99: 4, 27.99: 2, 17.99: 3, 299.99: 1, 49.99: 2, 23.99: 2, 20.99: 2, 39.99: 2, 99.99: 1, 29.99: 6, 34.99: 1, 18.99: 1, 22.99: 2}\n",
      "0.99\n"
     ]
    }
   ],
   "source": [
    "#Most frequent Price point > 0\n",
    "def Most_fre_pri_point(df):\n",
    "    li={}\n",
    "    p=0.0\n",
    "    for key in df.values:\n",
    "        if key[5]>p:\n",
    "            if key[5] in li:\n",
    "                li[key[5]]+=1\n",
    "            else:\n",
    "                li[key[5]]=1\n",
    "    m=max(li.values())\n",
    "    print(li)\n",
    "    for key in li.keys():\n",
    "        if li[key]==m:\n",
    "            print(key)\n",
    "Most_fre_pri_point(data)"
   ]
  },
  {
   "cell_type": "code",
   "execution_count": 42,
   "metadata": {},
   "outputs": [
    {
     "data": {
      "text/plain": [
       "3.5285777580859548"
      ]
     },
     "execution_count": 42,
     "metadata": {},
     "output_type": "execute_result"
    }
   ],
   "source": [
    "#Compare average user rating for free gaming apps\n",
    "def avg_u_r_fre_gam_ap(df):\n",
    "    p=0.0\n",
    "    c=0\n",
    "    s=0\n",
    "    for key in df.values:\n",
    "        if p==key[5] and key[12]==\"Games\":\n",
    "            s+=key[8]\n",
    "            c+=1\n",
    "    return(s/c)\n",
    "avg_u_r_fre_gam_ap(data)"
   ]
  },
  {
   "cell_type": "code",
   "execution_count": 46,
   "metadata": {},
   "outputs": [
    {
     "name": "stdout",
     "output_type": "stream",
     "text": [
      "Maximum ur for paid: 3.720948742438714\n"
     ]
    }
   ],
   "source": [
    "#Compare average user rating for paid vs free gaming apps\n",
    "def compare(df):\n",
    "    s=avg_u_r_fre_gam_ap(df)\n",
    "    t=avg_u_r_paid_ap(df)\n",
    "    if s>t:\n",
    "        print(\"Maximum ur for gaming:\",s)\n",
    "    else:\n",
    "        print(\"Maximum ur for paid:\",t)  \n",
    "compare(data)"
   ]
  },
  {
   "cell_type": "code",
   "execution_count": null,
   "metadata": {},
   "outputs": [],
   "source": []
  },
  {
   "cell_type": "code",
   "execution_count": null,
   "metadata": {},
   "outputs": [],
   "source": []
  }
 ],
 "metadata": {
  "kernelspec": {
   "display_name": "Python 3",
   "language": "python",
   "name": "python3"
  },
  "language_info": {
   "codemirror_mode": {
    "name": "ipython",
    "version": 3
   },
   "file_extension": ".py",
   "mimetype": "text/x-python",
   "name": "python",
   "nbconvert_exporter": "python",
   "pygments_lexer": "ipython3",
   "version": "3.7.3"
  }
 },
 "nbformat": 4,
 "nbformat_minor": 2
}
