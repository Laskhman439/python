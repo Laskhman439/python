{
 "cells": [
  {
   "cell_type": "code",
   "execution_count": 12,
   "metadata": {},
   "outputs": [
    {
     "name": "stdout",
     "output_type": "stream",
     "text": [
      "['44', '51', '93', '45', '99', '64', '41', '47', '35', '99', '46', '78', '74', '35', '62', '29', '68', '12', '35', '15', '83', '99', '50', '9', '44', '47', '29', '65', '67', '46', '48', '94', '44', '86', '85', '83', '41', '96', '24', '13', '44', '23', '7', '21', '23', '13', '6', '82', '98', '84', '78', '68', '85', '59', '96', '49', '55', '31', '53', '52', '0', '6', '77', '58', '36', '2', '42', '89', '21', '42', '93', '17', '67', '78', '74', '77', '52', '4', '42', '65', '52', '0', '30', '4', '70', '97', '79', '64', '38', '28', '32', '71', '77', '87', '87', '10', '66', '42', '34', '90']\n",
      "Enter:\n",
      "1.average of class students\n",
      "2.percentage of pass\n",
      "3.percnetage of fail\n",
      "4.percentage of distnction\n",
      "1\n",
      "52.52\n",
      "2\n",
      "Enter:\n",
      "1.average of class students\n",
      "2.percentage of pass\n",
      "3.percnetage of fail\n",
      "4.percentage of distnction\n",
      "2\n",
      "35\n",
      "73\n",
      "1\n",
      "Enter:\n",
      "1.average of class students\n",
      "2.percentage of pass\n",
      "3.percnetage of fail\n",
      "4.percentage of distnction\n",
      "3\n",
      "35\n",
      "30\n",
      "1\n",
      "Enter:\n",
      "1.average of class students\n",
      "2.percentage of pass\n",
      "3.percnetage of fail\n",
      "4.percentage of distnction\n",
      "4\n",
      "70\n",
      "32\n",
      "0\n"
     ]
    }
   ],
   "source": [
    "from random import randint\n",
    "s=\"Datafiles/marks-info.txt\"\n",
    "with open(s,'r') as f:\n",
    "    filedata=list(f.read().split())\n",
    "    print(filedata)\n",
    "n=1\n",
    "while(n):\n",
    "    i=int(input(\"Enter:\\n1.average of class students\\n2.percentage of pass\\n3.percnetage of fail\\n4.percentage of distnction\\n\"))\n",
    "    s=0\n",
    "    l=len(filedata)\n",
    "    if(i==1):\n",
    "        for j in range(0,l):\n",
    "            s=s+int(filedata[j])\n",
    "        print(s/l)\n",
    "    elif(i==2):\n",
    "        a=int(input())\n",
    "        for j in range(0,l):\n",
    "            if int(filedata[j])<a:\n",
    "                s=s+1\n",
    "        b=(l-s)/l\n",
    "        print (int(b*100))\n",
    "    elif(i==3):\n",
    "        c=int(input())\n",
    "        for j in range(0,l):\n",
    "            if int(filedata[j])>a:\n",
    "                s=s+1\n",
    "        d=(l-s)/l\n",
    "        print(int(d*100))\n",
    "    elif(i==4):\n",
    "        e=int(input())\n",
    "        for j in range(0,l):\n",
    "            if int(filedata[j])<e:\n",
    "                s=s+1\n",
    "        f=(l-s)/l\n",
    "        print(int(f*100))\n",
    "    n=int(input())\n",
    "        \n",
    "                    "
   ]
  },
  {
   "cell_type": "code",
   "execution_count": null,
   "metadata": {},
   "outputs": [],
   "source": []
  },
  {
   "cell_type": "code",
   "execution_count": null,
   "metadata": {},
   "outputs": [],
   "source": []
  },
  {
   "cell_type": "code",
   "execution_count": 11,
   "metadata": {},
   "outputs": [
    {
     "data": {
      "text/plain": [
       "[0, 10, 5, 11111111111, 99, 9999999999999]"
      ]
     },
     "execution_count": 11,
     "metadata": {},
     "output_type": "execute_result"
    }
   ],
   "source": [
    "def digits(l):\n",
    "    return sum(int(x) for x in str(l));\n",
    "l=[10,5,99,0,11111111111,9999999999999];\n",
    "l.sort(key=digits)\n",
    "l"
   ]
  },
  {
   "cell_type": "code",
   "execution_count": null,
   "metadata": {},
   "outputs": [],
   "source": []
  }
 ],
 "metadata": {
  "kernelspec": {
   "display_name": "Python 3",
   "language": "python",
   "name": "python3"
  },
  "language_info": {
   "codemirror_mode": {
    "name": "ipython",
    "version": 3
   },
   "file_extension": ".py",
   "mimetype": "text/x-python",
   "name": "python",
   "nbconvert_exporter": "python",
   "pygments_lexer": "ipython3",
   "version": "3.7.3"
  }
 },
 "nbformat": 4,
 "nbformat_minor": 2
}
