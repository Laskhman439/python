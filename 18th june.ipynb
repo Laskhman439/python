{
 "cells": [
  {
   "cell_type": "markdown",
   "metadata": {},
   "source": [
    "# Tuples\n",
    "t1=() li=[]\n",
    "### Difference between Lists and Tuples\n",
    "1.lists are mutable-can be changed/modified</br>\n",
    "    * used to access,modify,Add,Delete\n",
    "2.tuples are immutable-cannot be changed</br> \n",
    "    * used to access data only\n",
    "    * all sclicing work"
   ]
  },
  {
   "cell_type": "code",
   "execution_count": 6,
   "metadata": {},
   "outputs": [
    {
     "data": {
      "text/plain": [
       "tuple"
      ]
     },
     "execution_count": 6,
     "metadata": {},
     "output_type": "execute_result"
    }
   ],
   "source": [
    "t1=(1,2,8,6,0)\n",
    "t1[3] #accecing the fourth element\n",
    "t1[len(t1)//2:] #accesing from centain position\n",
    "type(t1)"
   ]
  },
  {
   "cell_type": "markdown",
   "metadata": {},
   "source": [
    "### Dictionaries\n",
    "* It Works on the Concept of Set </br>\n",
    "* Unique Data </br>\n",
    "    * Keys,Values </br>\n",
    "    * Key is the Unique identifier for a value </br> \n",
    "    * Value is data that can be accessed with a key </br>"
   ]
  },
  {
   "cell_type": "code",
   "execution_count": 27,
   "metadata": {},
   "outputs": [
    {
     "data": {
      "text/plain": [
       "True"
      ]
     },
     "execution_count": 27,
     "metadata": {},
     "output_type": "execute_result"
    }
   ],
   "source": [
    "d1={\"k1\":\"value1\",\"k2\":\"value2\"}\n",
    "d1[\"k2\"] #Accessing the value with key \"k2\"\n",
    "d1.keys() #returns list of all keys\n",
    "d1.values() #returns list of all values\n",
    "d1.items() #returns list of tuples of keys and values\n",
    "d1[\"k3\"]=\"value3\" #adding an element\n",
    "d1.keys()\n",
    "d1[\"k3\"]=\"value4\" #updating an element\n",
    "d1\n",
    "d1.pop(\"k3\") #remove one item from dictionary\n",
    "d1\n",
    "\"k1\" in d1 "
   ]
  },
  {
   "cell_type": "markdown",
   "metadata": {},
   "source": [
    "### Contacts Application\n",
    "- add contact\n",
    "- search for contact\n",
    "- list all contacts\n",
    "    - name1:phone1\n",
    "    - name2:phone2\n",
    "- modify contact\n",
    "- Remove contact"
   ]
  },
  {
   "cell_type": "code",
   "execution_count": 36,
   "metadata": {},
   "outputs": [],
   "source": [
    "contacts={}\n",
    "def addContact(name,phone):\n",
    "    if name not in contacts:\n",
    "        contacts[name]=phone\n",
    "    else:\n",
    "        print(\"contact  %s already exists\" % name)\n",
    "    return\n",
    "addContact(\"name1\",\"3928927493\")"
   ]
  },
  {
   "cell_type": "code",
   "execution_count": 33,
   "metadata": {},
   "outputs": [
    {
     "name": "stdout",
     "output_type": "stream",
     "text": [
      "name10 does not exists\n"
     ]
    }
   ],
   "source": [
    "def searchContacts(name):\n",
    "    if name in contacts:\n",
    "        print(name,\":\",contacts[name])\n",
    "    else:\n",
    "        print(\"%s does not exists\" % name)\n",
    "        return\n",
    "searchContacts(\"name10\")\n",
    "    "
   ]
  },
  {
   "cell_type": "code",
   "execution_count": 38,
   "metadata": {},
   "outputs": [
    {
     "data": {
      "text/plain": [
       "dict_items([('name1', '3928927493')])"
      ]
     },
     "execution_count": 38,
     "metadata": {},
     "output_type": "execute_result"
    }
   ],
   "source": [
    "contacts.items()"
   ]
  },
  {
   "cell_type": "code",
   "execution_count": 90,
   "metadata": {},
   "outputs": [
    {
     "data": {
      "text/plain": [
       "{'name2': '8330914955', 'name3': '8330914944'}"
      ]
     },
     "execution_count": 90,
     "metadata": {},
     "output_type": "execute_result"
    }
   ],
   "source": [
    "contacts[\"name2\"]=\"8330914955\"\n",
    "contacts[\"name3\"]=\"8330914944\"\n",
    "contacts"
   ]
  },
  {
   "cell_type": "code",
   "execution_count": 42,
   "metadata": {},
   "outputs": [
    {
     "data": {
      "text/plain": [
       "'3928927493'"
      ]
     },
     "execution_count": 42,
     "metadata": {},
     "output_type": "execute_result"
    }
   ],
   "source": [
    "contacts.pop(\"name1\")"
   ]
  },
  {
   "cell_type": "code",
   "execution_count": 91,
   "metadata": {},
   "outputs": [
    {
     "data": {
      "text/plain": [
       "{'name2': '8330914955', 'name3': '8330914944'}"
      ]
     },
     "execution_count": 91,
     "metadata": {},
     "output_type": "execute_result"
    }
   ],
   "source": [
    "contacts"
   ]
  },
  {
   "cell_type": "code",
   "execution_count": 92,
   "metadata": {},
   "outputs": [
    {
     "name": "stdout",
     "output_type": "stream",
     "text": [
      "2 contacts added successfully\n"
     ]
    }
   ],
   "source": [
    "# New contacts is given as a dictionary\n",
    "# Merge them with exictinf contacts\n",
    "def importContacts(newContacts):\n",
    "    contacts.update(newContacts)\n",
    "    print(len(newContacts.keys()),\"contacts added successfully\")\n",
    "    return\n",
    "newContacts={\"name\":9898897756,\"name1\":8485748933}\n",
    "importContacts(newContacts)"
   ]
  },
  {
   "cell_type": "code",
   "execution_count": 93,
   "metadata": {},
   "outputs": [
    {
     "data": {
      "text/plain": [
       "{'name2': '8330914955',\n",
       " 'name3': '8330914944',\n",
       " 'name': 9898897756,\n",
       " 'name1': 8485748933}"
      ]
     },
     "execution_count": 93,
     "metadata": {},
     "output_type": "execute_result"
    }
   ],
   "source": [
    "contacts"
   ]
  },
  {
   "cell_type": "code",
   "execution_count": 94,
   "metadata": {},
   "outputs": [
    {
     "name": "stdout",
     "output_type": "stream",
     "text": [
      "dict_keys(['name', 'name1']) contacts modified successfully\n"
     ]
    }
   ],
   "source": [
    "def modify(newcontacts):\n",
    "    contacts.update(newcontacts)\n",
    "    print(newcontacts.keys(),\"contacts modified successfully\")\n",
    "    return\n",
    "newcontacts={\"name\":6758575857,\"name1\":7731998229}\n",
    "modify(newcontacts)"
   ]
  },
  {
   "cell_type": "code",
   "execution_count": 95,
   "metadata": {},
   "outputs": [
    {
     "data": {
      "text/plain": [
       "{'name2': '8330914955',\n",
       " 'name3': '8330914944',\n",
       " 'name': 6758575857,\n",
       " 'name1': 7731998229}"
      ]
     },
     "execution_count": 95,
     "metadata": {},
     "output_type": "execute_result"
    }
   ],
   "source": [
    "contacts"
   ]
  },
  {
   "cell_type": "code",
   "execution_count": 96,
   "metadata": {},
   "outputs": [
    {
     "name": "stdout",
     "output_type": "stream",
     "text": [
      "dict_keys(['name']) removed successfully\n"
     ]
    }
   ],
   "source": [
    "def is_pop(newcontacts):\n",
    "    contacts.pop(list(newcontacts.keys())[0])\n",
    "    print(newcontacts.keys(),\"removed successfully\")\n",
    "    return\n",
    "newcontacts={\"name\":6758575857}\n",
    "is_pop(newcontacts)"
   ]
  },
  {
   "cell_type": "code",
   "execution_count": 98,
   "metadata": {},
   "outputs": [
    {
     "data": {
      "text/plain": [
       "{'name2': '8330914955', 'name3': '8330914944', 'name1': 7731998229}"
      ]
     },
     "execution_count": 98,
     "metadata": {},
     "output_type": "execute_result"
    }
   ],
   "source": [
    "contacts"
   ]
  },
  {
   "cell_type": "code",
   "execution_count": 80,
   "metadata": {},
   "outputs": [
    {
     "data": {
      "text/plain": [
       "{'lakshmi': 123}"
      ]
     },
     "execution_count": 80,
     "metadata": {},
     "output_type": "execute_result"
    }
   ],
   "source": [
    "a"
   ]
  },
  {
   "cell_type": "code",
   "execution_count": 83,
   "metadata": {},
   "outputs": [
    {
     "data": {
      "text/plain": [
       "'lakshmi'"
      ]
     },
     "execution_count": 83,
     "metadata": {},
     "output_type": "execute_result"
    }
   ],
   "source": [
    "list(a.keys())[0]"
   ]
  },
  {
   "cell_type": "markdown",
   "metadata": {},
   "source": [
    "## Packages and Modules\n",
    "**Package** -> Collection of MOdules(python file.py) and subpackages\n",
    "**Module** -> A single python file containing functions\n",
    "Package->Subpackages->Modules->Functions->"
   ]
  },
  {
   "cell_type": "code",
   "execution_count": 101,
   "metadata": {},
   "outputs": [
    {
     "data": {
      "text/plain": [
       "3.141592653589793"
      ]
     },
     "execution_count": 101,
     "metadata": {},
     "output_type": "execute_result"
    }
   ],
   "source": [
    "import math          #2nd method easy way->from math import floor,pi\n",
    "math.floor(123.456)  # floor(123.456)\n",
    "math.pi               #pi\n",
    "                     #we can rename floor to fl\n",
    "                       ->#from math import floor as fl"
   ]
  },
  {
   "cell_type": "code",
   "execution_count": 104,
   "metadata": {},
   "outputs": [
    {
     "name": "stdout",
     "output_type": "stream",
     "text": [
      "28 20 77 14 4 23 97 26 56 100 "
     ]
    }
   ],
   "source": [
    "#Function to generate N random numbers\n",
    "import random\n",
    "def generateNrandomNumbers(n,lb,ub):\n",
    "    for i in range(0,n):\n",
    "        print(random.randint(lb,ub),end=\" \")    \n",
    "generateNrandomNumbers(10,0,100)\n"
   ]
  },
  {
   "cell_type": "code",
   "execution_count": 107,
   "metadata": {},
   "outputs": [
    {
     "data": {
      "text/plain": [
       "2"
      ]
     },
     "execution_count": 107,
     "metadata": {},
     "output_type": "execute_result"
    }
   ],
   "source": [
    "from Packages import numerical\n",
    "numerical.numberOfPrimeFactors(1000)\n"
   ]
  },
  {
   "cell_type": "code",
   "execution_count": null,
   "metadata": {},
   "outputs": [],
   "source": []
  }
 ],
 "metadata": {
  "kernelspec": {
   "display_name": "Python 3",
   "language": "python",
   "name": "python3"
  },
  "language_info": {
   "codemirror_mode": {
    "name": "ipython",
    "version": 3
   },
   "file_extension": ".py",
   "mimetype": "text/x-python",
   "name": "python",
   "nbconvert_exporter": "python",
   "pygments_lexer": "ipython3",
   "version": "3.7.3"
  }
 },
 "nbformat": 4,
 "nbformat_minor": 2
}
