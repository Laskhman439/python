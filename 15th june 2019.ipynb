{
 "cells": [
  {
   "cell_type": "markdown",
   "metadata": {},
   "source": [
    "## practiced problems in hackerearth"
   ]
  },
  {
   "cell_type": "markdown",
   "metadata": {},
   "source": [
    "* Factorial\n",
    "* Prime number\n",
    "* Palindromic\n",
    "* Find product\n",
    "* toggle string\n",
    "* Two strings\n",
    "* Char sum\n",
    "* Duration\n",
    "* Count divisors\n",
    "* Seating arrangement\n",
    "* Anagrams(strucked at time duration)\n",
    "* Roy and Profile(two test cases not satisfied)\n",
    "* Play with numbers(strucked at time execution)"
   ]
  },
  {
   "cell_type": "code",
   "execution_count": null,
   "metadata": {},
   "outputs": [],
   "source": [
    "#factorial\n",
    "s=int(input())\n",
    "def fact(s):\n",
    "    i=1\n",
    "    factorial=1\n",
    "    while i<=s:\n",
    "        factorial=factorial*i\n",
    "        i=i+1\n",
    "    print(factorial)\n",
    "fact(s)"
   ]
  },
  {
   "cell_type": "code",
   "execution_count": null,
   "metadata": {},
   "outputs": [],
   "source": [
    "#primenumber\n",
    "s=int(input())\n",
    "def prime(s):\n",
    "    i=2\n",
    "    while i<=s:\n",
    "        count=0\n",
    "        for n in range(1,i+1):\n",
    "            if i%n==0:\n",
    "                count+=1\n",
    "        if count==2:\n",
    "            print(i,end=\" \")\n",
    "        i+=1\n",
    "prime(s)"
   ]
  },
  {
   "cell_type": "code",
   "execution_count": null,
   "metadata": {},
   "outputs": [],
   "source": [
    "#palanidromic\n",
    "s=input()\n",
    "rev=s[::-1]\n",
    "if s==rev:\n",
    "    print (\"YES\")\n",
    "else:\n",
    "    print(\"NO\")"
   ]
  },
  {
   "cell_type": "code",
   "execution_count": null,
   "metadata": {},
   "outputs": [],
   "source": [
    "#find product by \n",
    "#n=n%(10**9)+7\n",
    "#n=n%(10**9)+7\n",
    "s=int(input())\n",
    "li=list(map(int,input().split()))\n",
    "sum=1\n",
    "for i in range(0,s):\n",
    "    sum=(sum*li[i])%((10**9)+7)\n",
    "print(sum)"
   ]
  },
  {
   "cell_type": "code",
   "execution_count": null,
   "metadata": {},
   "outputs": [],
   "source": [
    "#toggle string\n",
    "s=input()\n",
    "s=s.swapcase()\n",
    "print(s)"
   ]
  },
  {
   "cell_type": "code",
   "execution_count": null,
   "metadata": {},
   "outputs": [],
   "source": [
    "#two strings\n",
    "s=int(input())\n",
    "for i in range(1,s+1):\n",
    "    q=input().split()\n",
    "    a=list(q[0])\n",
    "    b=list(q[1])\n",
    "    a.sort()\n",
    "    b.sort()\n",
    "    if b==a:\n",
    "        print(\"YES\")\n",
    "    else:\n",
    "        print(\"NO\")\n"
   ]
  },
  {
   "cell_type": "code",
   "execution_count": null,
   "metadata": {},
   "outputs": [],
   "source": [
    "#char sum\n",
    "s=input()\n",
    "c=0\n",
    "for l in s:\n",
    "    c+=ord(l)-96\n",
    "print(c)"
   ]
  },
  {
   "cell_type": "code",
   "execution_count": null,
   "metadata": {},
   "outputs": [],
   "source": [
    "#duration\n",
    "n=int(input())\n",
    "for i in range(1,n+1):\n",
    "    q=input().split()\n",
    "    a=(q[0]),(q[2])\n",
    "    b=(q[1]),(q[3])\n",
    "    di=int(a[1])-int(a[0])-1\n",
    "    de=int(b[1])+60-int(b[0])\n",
    "    if de>=60:\n",
    "        z=de//60\n",
    "        di+=z\n",
    "        r=de%60\n",
    "        de=r\n",
    "        print(di,de)\n",
    "    else:\n",
    "        print(di,de)\n",
    "        "
   ]
  },
  {
   "cell_type": "code",
   "execution_count": null,
   "metadata": {},
   "outputs": [],
   "source": [
    "#count divisors\n",
    "s=input().split()\n",
    "l=int(s[0])\n",
    "r=int(s[1])\n",
    "s=int(s[2])\n",
    "def call(l,r,s):\n",
    "    count=0\n",
    "    for i in range(l,r+1):\n",
    "        if i%s==0:\n",
    "            count=count+1\n",
    "    print(count)\n",
    "call(l,r,s)"
   ]
  },
  {
   "cell_type": "code",
   "execution_count": null,
   "metadata": {},
   "outputs": [],
   "source": [
    "#Roy and Profile picture(two testcases not satisfied)\n",
    "l=int(input())\n",
    "t=int(input())\n",
    "for i in range(1,t+1):\n",
    "    j=list(map(int,input().split()))\n",
    "    if(j[0]==l and j[1]==l) or (j[0]==j[1] and (j[0]>l and j[1]>l)):\n",
    "        print(\"ACCEPTED\")\n",
    "    elif(j[0]<l or j[1]<l):\n",
    "        print(\"UPLOAD ANOTHER\")\n",
    "    elif(j[0]==l and j[l]>l)or(j[0]>l and j[1]==l):\n",
    "        print(\"CROP IT\")\n",
    "    elif(j[0]>l and j[1]>l and j[0]!=j[1]):\n",
    "        print(\"CROP IT\")\n",
    "        "
   ]
  },
  {
   "cell_type": "code",
   "execution_count": null,
   "metadata": {},
   "outputs": [],
   "source": [
    "#Anagrams(strucked at time execution)\n",
    "t=int(input())\n",
    "s=input()\n",
    "u=input()\n",
    "s1=int(str(len(s)))\n",
    "u1=int(str(len(u)))\n",
    "z=0\n",
    "for i in range(s1):\n",
    "    for j in range(u1):\n",
    "        if  u[i]!=s[j]:\n",
    "            z=z+1\n",
    "a=z-(s1+u1)\n",
    "b=(s1+u1)-a\n",
    "print(b)\n"
   ]
  },
  {
   "cell_type": "code",
   "execution_count": null,
   "metadata": {},
   "outputs": [],
   "source": [
    "#play with numbers(strucked at time execution)\n",
    "s1,s2=map(int,input().split())\n",
    "li=list(map(int,input().split()))\n",
    "for j in range(1,s2+1):\n",
    "    a,b=map(int,input().split())\n",
    "    count=0\n",
    "    sum=0\n",
    "    for i in range(a-1,b):\n",
    "        sum=sum+li[i]\n",
    "        count=count+1\n",
    "    print(int(sum/count))"
   ]
  }
 ],
 "metadata": {
  "kernelspec": {
   "display_name": "Python 3",
   "language": "python",
   "name": "python3"
  },
  "language_info": {
   "codemirror_mode": {
    "name": "ipython",
    "version": 3
   },
   "file_extension": ".py",
   "mimetype": "text/x-python",
   "name": "python",
   "nbconvert_exporter": "python",
   "pygments_lexer": "ipython3",
   "version": "3.7.3"
  }
 },
 "nbformat": 4,
 "nbformat_minor": 2
}
